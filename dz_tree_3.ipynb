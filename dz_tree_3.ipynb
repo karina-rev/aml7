{
 "cells": [
  {
   "cell_type": "code",
   "execution_count": 2,
   "metadata": {},
   "outputs": [],
   "source": [
    "import numpy as np\n",
    "from collections import Counter\n",
    "from sklearn.datasets.samples_generator import make_classification\n",
    "import matplotlib.pyplot as plt"
   ]
  },
  {
   "cell_type": "code",
   "execution_count": 11,
   "metadata": {},
   "outputs": [],
   "source": [
    "# генерируем случайные данные\n",
    "x, y = make_classification(n_samples=40, random_state=0, n_classes = 2, n_features=2, \n",
    "    n_redundant=0, n_informative=2, n_repeated=0)"
   ]
  },
  {
   "cell_type": "code",
   "execution_count": 12,
   "metadata": {},
   "outputs": [
    {
     "data": {
      "image/png": "[encoded data removed]",
      "text/plain": [
       "<Figure size 432x288 with 1 Axes>"
      ]
     },
     "metadata": {
      "needs_background": "light"
     },
     "output_type": "display_data"
    }
   ],
   "source": [
    "# посмотрим что получилось\n",
    "plt.scatter(x[:,0], x[:,1], c=y)\n",
    "plt.show()"
   ]
  },
  {
   "cell_type": "code",
   "execution_count": 13,
   "metadata": {},
   "outputs": [],
   "source": [
    "def HGini(l): \n",
    "    \"\"\" Вычисляет критерий Джини для последовательности l\"\"\"\n",
    "    length = len(l)\n",
    "    cnt = Counter(l)\n",
    "    \n",
    "    gini = 0\n",
    "    for cl in cnt.values():\n",
    "        p_1 = cl / length\n",
    "        p_2 = (1 - p_1)\n",
    "        it = p_1 * p_2\n",
    "        gini += it\n",
    "    \n",
    "    return gini"
   ]
  },
  {
   "cell_type": "code",
   "execution_count": 14,
   "metadata": {},
   "outputs": [],
   "source": [
    "def IG(H, l, left_l, right_l):\n",
    "    return H(l) - (len(left_l) / len(l)) * H(left_l) - (len(right_l) / len(l)) * H(right_l)"
   ]
  },
  {
   "cell_type": "code",
   "execution_count": 15,
   "metadata": {},
   "outputs": [],
   "source": [
    "def features_max_IG(x, y):\n",
    "    \"\"\"Возвращает маскимальное значение gain-ов max_gains для каждого признака x\n",
    "    и значение признака max_gains_row, на котором был достигнут максимальный gain\n",
    "    \"\"\"\n",
    "    max_gains = []\n",
    "    max_gains_row = []\n",
    "\n",
    "    for i in range(x.shape[1]):\n",
    "        sorted_column = sorted(x[:,i])\n",
    "        max_gain = 0\n",
    "        max_gain_row = 0\n",
    "\n",
    "        for row in sorted_column:\n",
    "            gain = IG(HGini, y, y[x[:,i] <= row], y[x[:,i] > row])\n",
    "            if gain >= max_gain:\n",
    "                max_gain = gain\n",
    "                max_gain_row= row\n",
    "\n",
    "        max_gains.append(max_gain)\n",
    "        max_gains_row.append(max_gain_row)\n",
    "        \n",
    "    return max_gains, max_gains_row"
   ]
  },
  {
   "cell_type": "code",
   "execution_count": 16,
   "metadata": {},
   "outputs": [],
   "source": [
    "def tree(x, y):\n",
    "    \"\"\"Строит дерево для x с ответами y\"\"\"\n",
    "    gains, gains_rows = features_max_IG(x, y)\n",
    "    max_idx = gains.index(max(gains))\n",
    "    \n",
    "    left_x = x[x[:, max_idx] <= gains_rows[max_idx]]\n",
    "    right_x = x[x[:, max_idx] > gains_rows[max_idx]]\n",
    "    \n",
    "    left_y = y[x[:, max_idx] <= gains_rows[max_idx]]\n",
    "    right_y = y[x[:, max_idx] > gains_rows[max_idx]]\n",
    "    \n",
    "    left_gini = HGini(left_y)\n",
    "    right_gini = HGini(right_y)\n",
    "    \n",
    "    print(f'Разделяем по фиче №{max_idx}')\n",
    "    print(f'IG =  {max(gains)}')\n",
    "    print(f'Условие: фича №{max_idx} <= {gains_rows[max_idx]}')\n",
    "    print(f'Элементов слева: {len(left_y)} Элементов справа: {len(right_y)}')\n",
    "    print(f'Критерий Джини слева: {left_gini} Критерий Джини справа: {right_gini}')\n",
    "    print('')\n",
    "    \n",
    "    if left_gini != 0:\n",
    "        print(f'-- Левая группа. {len(left_y)} элементa(ов)')\n",
    "        tree(left_x, left_y)\n",
    "    \n",
    "    if right_gini != 0:\n",
    "        print(f'-- Правая группа. {len(right_y)} элемента(ов) ')\n",
    "        tree(right_x, right_y)   "
   ]
  },
  {
   "cell_type": "code",
   "execution_count": 17,
   "metadata": {},
   "outputs": [
    {
     "name": "stdout",
     "output_type": "stream",
     "text": [
      "Разделяем по фиче №0\n",
      "IG =  0.4049999999999999\n",
      "Условие: фича №0 <= -0.4770177245253687\n",
      "Элементов слева: 20 Элементов справа: 20\n",
      "Критерий Джини слева: 0.09500000000000004 Критерий Джини справа: 0.09500000000000004\n",
      "\n",
      "-- Левая группа. 20 элементa(ов)\n",
      "Разделяем по фиче №1\n",
      "IG =  0.09500000000000004\n",
      "Условие: фича №1 <= -2.529335121330661\n",
      "Элементов слева: 1 Элементов справа: 19\n",
      "Критерий Джини слева: 0.0 Критерий Джини справа: 0.0\n",
      "\n",
      "-- Правая группа. 20 элемента(ов) \n",
      "Разделяем по фиче №0\n",
      "IG =  0.02000000000000003\n",
      "Условие: фича №0 <= 0.5198607176320689\n",
      "Элементов слева: 4 Элементов справа: 16\n",
      "Критерий Джини слева: 0.375 Критерий Джини справа: 0.0\n",
      "\n",
      "-- Левая группа. 4 элементa(ов)\n",
      "Разделяем по фиче №0\n",
      "IG =  0.375\n",
      "Условие: фича №0 <= 0.35036352059454534\n",
      "Элементов слева: 3 Элементов справа: 1\n",
      "Критерий Джини слева: 0.0 Критерий Джини справа: 0.0\n",
      "\n"
     ]
    }
   ],
   "source": [
    "tree(x, y)"
   ]
  }
 ],
 "metadata": {
  "kernelspec": {
   "display_name": "Python 3",
   "language": "python",
   "name": "python3"
  },
  "language_info": {
   "codemirror_mode": {
    "name": "ipython",
    "version": 3
   },
   "file_extension": ".py",
   "mimetype": "text/x-python",
   "name": "python",
   "nbconvert_exporter": "python",
   "pygments_lexer": "ipython3",
   "version": "3.7.4"
  }
 },
 "nbformat": 4,
 "nbformat_minor": 2
}
