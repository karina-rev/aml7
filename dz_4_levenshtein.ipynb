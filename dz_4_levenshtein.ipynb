{
 "cells": [
  {
   "cell_type": "markdown",
   "metadata": {},
   "source": [
    "# Поиск наиболее близкого имени участника"
   ]
  },
  {
   "cell_type": "code",
   "execution_count": 1,
   "metadata": {},
   "outputs": [],
   "source": [
    "# conda install -c conda-forge python-levenshtein\n",
    "# или pip install python-levenshtein\n",
    "\n",
    "import Levenshtein"
   ]
  },
  {
   "cell_type": "code",
   "execution_count": 2,
   "metadata": {},
   "outputs": [],
   "source": [
    "# что было написано в заявке\n",
    "\n",
    "claim_list = [\n",
    "    'Шехавцова Анна',\n",
    "    'Гречихина Наталья',\n",
    "    'Козлова Алена',\n",
    "    'Груздева Алина',\n",
    "    'Кущенко Анна',\n",
    "    'Чистякова Анастасия'\n",
    "]"
   ]
  },
  {
   "cell_type": "code",
   "execution_count": 3,
   "metadata": {},
   "outputs": [],
   "source": [
    "# результат расшифровки речи диктора\n",
    "\n",
    "speech_recognition = [\n",
    "    'кучменко она',\n",
    "    'кущенко оксана',\n",
    "    'груздь алина',\n",
    "    'рычихина наталья',\n",
    "    'шиховцева на',\n",
    "    'чистова анастасия'\n",
    "]"
   ]
  },
  {
   "cell_type": "code",
   "execution_count": 17,
   "metadata": {},
   "outputs": [
    {
     "name": "stdout",
     "output_type": "stream",
     "text": [
      "кучменко она - Кущенко Анна. Расстояние Левенштейна = 14\n",
      "кущенко оксана - Кущенко Анна. Расстояние Левенштейна = 14\n",
      "груздь алина - Груздева Алина. Расстояние Левенштейна = 14\n",
      "рычихина наталья - Гречихина Наталья. Расстояние Левенштейна = 12\n",
      "шиховцева на - Шехавцова Анна. Расстояние Левенштейна = 13\n",
      "чистова анастасия - Чистякова Анастасия. Расстояние Левенштейна = 4\n"
     ]
    }
   ],
   "source": [
    "# вывод имени с наименьшим расстоянием Левенштейна\n",
    "for recognized_name in speech_recognition:\n",
    "    distances = []\n",
    "    \n",
    "    for real_name in claim_list:\n",
    "        distances.append(Levenshtein.distance(recognized_name, real_name))\n",
    "        \n",
    "    closest_name = claim_list[distances.index(min(distances))]\n",
    "    levenshtein_dist = name_distances[distances.index(min(distances))]    \n",
    "    print('{} - {}. Расстояние Левенштейна = {}'.format(recognized_name, closest_name, levenshtein_dist))      "
   ]
  }
 ],
 "metadata": {
  "kernelspec": {
   "display_name": "Python 3",
   "language": "python",
   "name": "python3"
  },
  "language_info": {
   "codemirror_mode": {
    "name": "ipython",
    "version": 3
   },
   "file_extension": ".py",
   "mimetype": "text/x-python",
   "name": "python",
   "nbconvert_exporter": "python",
   "pygments_lexer": "ipython3",
   "version": "3.7.4"
  }
 },
 "nbformat": 4,
 "nbformat_minor": 2
}
