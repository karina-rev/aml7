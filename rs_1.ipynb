{
 "cells": [
  {
   "cell_type": "code",
   "execution_count": 1,
   "metadata": {},
   "outputs": [],
   "source": [
    "import pandas as pd\n",
    "import numpy as np\n",
    "\n",
    "from matplotlib import pyplot as plt\n",
    "from sklearn.feature_extraction.text import TfidfVectorizer\n",
    "from sklearn.neighbors import NearestNeighbors\n",
    "from sklearn.model_selection import train_test_split, cross_val_score, GridSearchCV\n",
    "from sklearn.ensemble import RandomForestRegressor\n",
    "from sklearn.metrics import mean_squared_error\n",
    "from sklearn.preprocessing import StandardScaler\n",
    "\n",
    "%matplotlib inline"
   ]
  },
  {
   "cell_type": "code",
   "execution_count": 2,
   "metadata": {},
   "outputs": [],
   "source": [
    "movies = pd.read_csv('../1. Вводное занятие/movies.csv')\n",
    "ratings = pd.read_csv('../1. Вводное занятие/ratings.csv')\n",
    "tags = pd.read_csv('../1. Вводное занятие/tags.csv')"
   ]
  },
  {
   "cell_type": "code",
   "execution_count": 3,
   "metadata": {},
   "outputs": [
    {
     "data": {
      "text/html": [
       "<div>\n",
       "<style scoped>\n",
       "    .dataframe tbody tr th:only-of-type {\n",
       "        vertical-align: middle;\n",
       "    }\n",
       "\n",
       "    .dataframe tbody tr th {\n",
       "        vertical-align: top;\n",
       "    }\n",
       "\n",
       "    .dataframe thead th {\n",
       "        text-align: right;\n",
       "    }\n",
       "</style>\n",
       "<table border=\"1\" class=\"dataframe\">\n",
       "  <thead>\n",
       "    <tr style=\"text-align: right;\">\n",
       "      <th></th>\n",
       "      <th>movieId</th>\n",
       "      <th>title</th>\n",
       "      <th>genres</th>\n",
       "    </tr>\n",
       "  </thead>\n",
       "  <tbody>\n",
       "    <tr>\n",
       "      <td>0</td>\n",
       "      <td>1</td>\n",
       "      <td>Toy Story (1995)</td>\n",
       "      <td>Adventure|Animation|Children|Comedy|Fantasy</td>\n",
       "    </tr>\n",
       "    <tr>\n",
       "      <td>1</td>\n",
       "      <td>2</td>\n",
       "      <td>Jumanji (1995)</td>\n",
       "      <td>Adventure|Children|Fantasy</td>\n",
       "    </tr>\n",
       "    <tr>\n",
       "      <td>2</td>\n",
       "      <td>3</td>\n",
       "      <td>Grumpier Old Men (1995)</td>\n",
       "      <td>Comedy|Romance</td>\n",
       "    </tr>\n",
       "    <tr>\n",
       "      <td>3</td>\n",
       "      <td>4</td>\n",
       "      <td>Waiting to Exhale (1995)</td>\n",
       "      <td>Comedy|Drama|Romance</td>\n",
       "    </tr>\n",
       "    <tr>\n",
       "      <td>4</td>\n",
       "      <td>5</td>\n",
       "      <td>Father of the Bride Part II (1995)</td>\n",
       "      <td>Comedy</td>\n",
       "    </tr>\n",
       "  </tbody>\n",
       "</table>\n",
       "</div>"
      ],
      "text/plain": [
       "   movieId                               title  \\\n",
       "0        1                    Toy Story (1995)   \n",
       "1        2                      Jumanji (1995)   \n",
       "2        3             Grumpier Old Men (1995)   \n",
       "3        4            Waiting to Exhale (1995)   \n",
       "4        5  Father of the Bride Part II (1995)   \n",
       "\n",
       "                                        genres  \n",
       "0  Adventure|Animation|Children|Comedy|Fantasy  \n",
       "1                   Adventure|Children|Fantasy  \n",
       "2                               Comedy|Romance  \n",
       "3                         Comedy|Drama|Romance  \n",
       "4                                       Comedy  "
      ]
     },
     "execution_count": 3,
     "metadata": {},
     "output_type": "execute_result"
    }
   ],
   "source": [
    "movies.head()"
   ]
  },
  {
   "cell_type": "code",
   "execution_count": 4,
   "metadata": {},
   "outputs": [
    {
     "data": {
      "text/html": [
       "<div>\n",
       "<style scoped>\n",
       "    .dataframe tbody tr th:only-of-type {\n",
       "        vertical-align: middle;\n",
       "    }\n",
       "\n",
       "    .dataframe tbody tr th {\n",
       "        vertical-align: top;\n",
       "    }\n",
       "\n",
       "    .dataframe thead th {\n",
       "        text-align: right;\n",
       "    }\n",
       "</style>\n",
       "<table border=\"1\" class=\"dataframe\">\n",
       "  <thead>\n",
       "    <tr style=\"text-align: right;\">\n",
       "      <th></th>\n",
       "      <th>userId</th>\n",
       "      <th>movieId</th>\n",
       "      <th>rating</th>\n",
       "      <th>timestamp</th>\n",
       "    </tr>\n",
       "  </thead>\n",
       "  <tbody>\n",
       "    <tr>\n",
       "      <td>0</td>\n",
       "      <td>1</td>\n",
       "      <td>1</td>\n",
       "      <td>4.0</td>\n",
       "      <td>964982703</td>\n",
       "    </tr>\n",
       "    <tr>\n",
       "      <td>1</td>\n",
       "      <td>1</td>\n",
       "      <td>3</td>\n",
       "      <td>4.0</td>\n",
       "      <td>964981247</td>\n",
       "    </tr>\n",
       "    <tr>\n",
       "      <td>2</td>\n",
       "      <td>1</td>\n",
       "      <td>6</td>\n",
       "      <td>4.0</td>\n",
       "      <td>964982224</td>\n",
       "    </tr>\n",
       "    <tr>\n",
       "      <td>3</td>\n",
       "      <td>1</td>\n",
       "      <td>47</td>\n",
       "      <td>5.0</td>\n",
       "      <td>964983815</td>\n",
       "    </tr>\n",
       "    <tr>\n",
       "      <td>4</td>\n",
       "      <td>1</td>\n",
       "      <td>50</td>\n",
       "      <td>5.0</td>\n",
       "      <td>964982931</td>\n",
       "    </tr>\n",
       "  </tbody>\n",
       "</table>\n",
       "</div>"
      ],
      "text/plain": [
       "   userId  movieId  rating  timestamp\n",
       "0       1        1     4.0  964982703\n",
       "1       1        3     4.0  964981247\n",
       "2       1        6     4.0  964982224\n",
       "3       1       47     5.0  964983815\n",
       "4       1       50     5.0  964982931"
      ]
     },
     "execution_count": 4,
     "metadata": {},
     "output_type": "execute_result"
    }
   ],
   "source": [
    "ratings.head()"
   ]
  },
  {
   "cell_type": "code",
   "execution_count": 5,
   "metadata": {},
   "outputs": [
    {
     "data": {
      "text/html": [
       "<div>\n",
       "<style scoped>\n",
       "    .dataframe tbody tr th:only-of-type {\n",
       "        vertical-align: middle;\n",
       "    }\n",
       "\n",
       "    .dataframe tbody tr th {\n",
       "        vertical-align: top;\n",
       "    }\n",
       "\n",
       "    .dataframe thead th {\n",
       "        text-align: right;\n",
       "    }\n",
       "</style>\n",
       "<table border=\"1\" class=\"dataframe\">\n",
       "  <thead>\n",
       "    <tr style=\"text-align: right;\">\n",
       "      <th></th>\n",
       "      <th>userId</th>\n",
       "      <th>movieId</th>\n",
       "      <th>tag</th>\n",
       "      <th>timestamp</th>\n",
       "    </tr>\n",
       "  </thead>\n",
       "  <tbody>\n",
       "    <tr>\n",
       "      <td>0</td>\n",
       "      <td>2</td>\n",
       "      <td>60756</td>\n",
       "      <td>funny</td>\n",
       "      <td>1445714994</td>\n",
       "    </tr>\n",
       "    <tr>\n",
       "      <td>1</td>\n",
       "      <td>2</td>\n",
       "      <td>60756</td>\n",
       "      <td>Highly quotable</td>\n",
       "      <td>1445714996</td>\n",
       "    </tr>\n",
       "    <tr>\n",
       "      <td>2</td>\n",
       "      <td>2</td>\n",
       "      <td>60756</td>\n",
       "      <td>will ferrell</td>\n",
       "      <td>1445714992</td>\n",
       "    </tr>\n",
       "    <tr>\n",
       "      <td>3</td>\n",
       "      <td>2</td>\n",
       "      <td>89774</td>\n",
       "      <td>Boxing story</td>\n",
       "      <td>1445715207</td>\n",
       "    </tr>\n",
       "    <tr>\n",
       "      <td>4</td>\n",
       "      <td>2</td>\n",
       "      <td>89774</td>\n",
       "      <td>MMA</td>\n",
       "      <td>1445715200</td>\n",
       "    </tr>\n",
       "  </tbody>\n",
       "</table>\n",
       "</div>"
      ],
      "text/plain": [
       "   userId  movieId              tag   timestamp\n",
       "0       2    60756            funny  1445714994\n",
       "1       2    60756  Highly quotable  1445714996\n",
       "2       2    60756     will ferrell  1445714992\n",
       "3       2    89774     Boxing story  1445715207\n",
       "4       2    89774              MMA  1445715200"
      ]
     },
     "execution_count": 5,
     "metadata": {},
     "output_type": "execute_result"
    }
   ],
   "source": [
    "tags.head()"
   ]
  },
  {
   "cell_type": "code",
   "execution_count": 6,
   "metadata": {},
   "outputs": [],
   "source": [
    "# датасет, который будем использовать\n",
    "data = ratings.drop('timestamp', axis = 1)"
   ]
  },
  {
   "cell_type": "markdown",
   "metadata": {},
   "source": [
    "### TF-IDF"
   ]
  },
  {
   "cell_type": "code",
   "execution_count": 7,
   "metadata": {},
   "outputs": [],
   "source": [
    "def change_string(s):\n",
    "    return ' '.join(s.replace(' ', '').replace('-', '').split('|'))"
   ]
  },
  {
   "cell_type": "code",
   "execution_count": 8,
   "metadata": {},
   "outputs": [],
   "source": [
    "movie_genres = [change_string(g) for g in movies.genres.values]"
   ]
  },
  {
   "cell_type": "code",
   "execution_count": 9,
   "metadata": {},
   "outputs": [],
   "source": [
    "tfidf_vect = TfidfVectorizer()\n",
    "movies_tfidf = tfidf_vect.fit_transform(movie_genres)"
   ]
  },
  {
   "cell_type": "code",
   "execution_count": 10,
   "metadata": {},
   "outputs": [],
   "source": [
    "df = pd.DataFrame(movies_tfidf.toarray(), columns = tfidf_vect.get_feature_names())"
   ]
  },
  {
   "cell_type": "code",
   "execution_count": 11,
   "metadata": {
    "scrolled": false
   },
   "outputs": [
    {
     "data": {
      "text/html": [
       "<div>\n",
       "<style scoped>\n",
       "    .dataframe tbody tr th:only-of-type {\n",
       "        vertical-align: middle;\n",
       "    }\n",
       "\n",
       "    .dataframe tbody tr th {\n",
       "        vertical-align: top;\n",
       "    }\n",
       "\n",
       "    .dataframe thead th {\n",
       "        text-align: right;\n",
       "    }\n",
       "</style>\n",
       "<table border=\"1\" class=\"dataframe\">\n",
       "  <thead>\n",
       "    <tr style=\"text-align: right;\">\n",
       "      <th></th>\n",
       "      <th>movieId</th>\n",
       "      <th>title</th>\n",
       "      <th>genres</th>\n",
       "      <th>action</th>\n",
       "      <th>adventure</th>\n",
       "      <th>animation</th>\n",
       "      <th>children</th>\n",
       "      <th>comedy</th>\n",
       "      <th>crime</th>\n",
       "      <th>documentary</th>\n",
       "      <th>...</th>\n",
       "      <th>horror</th>\n",
       "      <th>imax</th>\n",
       "      <th>musical</th>\n",
       "      <th>mystery</th>\n",
       "      <th>nogenreslisted</th>\n",
       "      <th>romance</th>\n",
       "      <th>scifi</th>\n",
       "      <th>thriller</th>\n",
       "      <th>war</th>\n",
       "      <th>western</th>\n",
       "    </tr>\n",
       "  </thead>\n",
       "  <tbody>\n",
       "    <tr>\n",
       "      <td>0</td>\n",
       "      <td>1</td>\n",
       "      <td>Toy Story (1995)</td>\n",
       "      <td>Adventure|Animation|Children|Comedy|Fantasy</td>\n",
       "      <td>0.0</td>\n",
       "      <td>0.416846</td>\n",
       "      <td>0.516225</td>\n",
       "      <td>0.504845</td>\n",
       "      <td>0.267586</td>\n",
       "      <td>0.0</td>\n",
       "      <td>0.0</td>\n",
       "      <td>...</td>\n",
       "      <td>0.0</td>\n",
       "      <td>0.0</td>\n",
       "      <td>0.0</td>\n",
       "      <td>0.0</td>\n",
       "      <td>0.0</td>\n",
       "      <td>0.000000</td>\n",
       "      <td>0.0</td>\n",
       "      <td>0.0</td>\n",
       "      <td>0.0</td>\n",
       "      <td>0.0</td>\n",
       "    </tr>\n",
       "    <tr>\n",
       "      <td>1</td>\n",
       "      <td>2</td>\n",
       "      <td>Jumanji (1995)</td>\n",
       "      <td>Adventure|Children|Fantasy</td>\n",
       "      <td>0.0</td>\n",
       "      <td>0.512361</td>\n",
       "      <td>0.000000</td>\n",
       "      <td>0.620525</td>\n",
       "      <td>0.000000</td>\n",
       "      <td>0.0</td>\n",
       "      <td>0.0</td>\n",
       "      <td>...</td>\n",
       "      <td>0.0</td>\n",
       "      <td>0.0</td>\n",
       "      <td>0.0</td>\n",
       "      <td>0.0</td>\n",
       "      <td>0.0</td>\n",
       "      <td>0.000000</td>\n",
       "      <td>0.0</td>\n",
       "      <td>0.0</td>\n",
       "      <td>0.0</td>\n",
       "      <td>0.0</td>\n",
       "    </tr>\n",
       "    <tr>\n",
       "      <td>2</td>\n",
       "      <td>3</td>\n",
       "      <td>Grumpier Old Men (1995)</td>\n",
       "      <td>Comedy|Romance</td>\n",
       "      <td>0.0</td>\n",
       "      <td>0.000000</td>\n",
       "      <td>0.000000</td>\n",
       "      <td>0.000000</td>\n",
       "      <td>0.570915</td>\n",
       "      <td>0.0</td>\n",
       "      <td>0.0</td>\n",
       "      <td>...</td>\n",
       "      <td>0.0</td>\n",
       "      <td>0.0</td>\n",
       "      <td>0.0</td>\n",
       "      <td>0.0</td>\n",
       "      <td>0.0</td>\n",
       "      <td>0.821009</td>\n",
       "      <td>0.0</td>\n",
       "      <td>0.0</td>\n",
       "      <td>0.0</td>\n",
       "      <td>0.0</td>\n",
       "    </tr>\n",
       "    <tr>\n",
       "      <td>3</td>\n",
       "      <td>4</td>\n",
       "      <td>Waiting to Exhale (1995)</td>\n",
       "      <td>Comedy|Drama|Romance</td>\n",
       "      <td>0.0</td>\n",
       "      <td>0.000000</td>\n",
       "      <td>0.000000</td>\n",
       "      <td>0.000000</td>\n",
       "      <td>0.505015</td>\n",
       "      <td>0.0</td>\n",
       "      <td>0.0</td>\n",
       "      <td>...</td>\n",
       "      <td>0.0</td>\n",
       "      <td>0.0</td>\n",
       "      <td>0.0</td>\n",
       "      <td>0.0</td>\n",
       "      <td>0.0</td>\n",
       "      <td>0.726241</td>\n",
       "      <td>0.0</td>\n",
       "      <td>0.0</td>\n",
       "      <td>0.0</td>\n",
       "      <td>0.0</td>\n",
       "    </tr>\n",
       "    <tr>\n",
       "      <td>4</td>\n",
       "      <td>5</td>\n",
       "      <td>Father of the Bride Part II (1995)</td>\n",
       "      <td>Comedy</td>\n",
       "      <td>0.0</td>\n",
       "      <td>0.000000</td>\n",
       "      <td>0.000000</td>\n",
       "      <td>0.000000</td>\n",
       "      <td>1.000000</td>\n",
       "      <td>0.0</td>\n",
       "      <td>0.0</td>\n",
       "      <td>...</td>\n",
       "      <td>0.0</td>\n",
       "      <td>0.0</td>\n",
       "      <td>0.0</td>\n",
       "      <td>0.0</td>\n",
       "      <td>0.0</td>\n",
       "      <td>0.000000</td>\n",
       "      <td>0.0</td>\n",
       "      <td>0.0</td>\n",
       "      <td>0.0</td>\n",
       "      <td>0.0</td>\n",
       "    </tr>\n",
       "  </tbody>\n",
       "</table>\n",
       "<p>5 rows × 23 columns</p>\n",
       "</div>"
      ],
      "text/plain": [
       "   movieId                               title  \\\n",
       "0        1                    Toy Story (1995)   \n",
       "1        2                      Jumanji (1995)   \n",
       "2        3             Grumpier Old Men (1995)   \n",
       "3        4            Waiting to Exhale (1995)   \n",
       "4        5  Father of the Bride Part II (1995)   \n",
       "\n",
       "                                        genres  action  adventure  animation  \\\n",
       "0  Adventure|Animation|Children|Comedy|Fantasy     0.0   0.416846   0.516225   \n",
       "1                   Adventure|Children|Fantasy     0.0   0.512361   0.000000   \n",
       "2                               Comedy|Romance     0.0   0.000000   0.000000   \n",
       "3                         Comedy|Drama|Romance     0.0   0.000000   0.000000   \n",
       "4                                       Comedy     0.0   0.000000   0.000000   \n",
       "\n",
       "   children    comedy  crime  documentary  ...  horror  imax  musical  \\\n",
       "0  0.504845  0.267586    0.0          0.0  ...     0.0   0.0      0.0   \n",
       "1  0.620525  0.000000    0.0          0.0  ...     0.0   0.0      0.0   \n",
       "2  0.000000  0.570915    0.0          0.0  ...     0.0   0.0      0.0   \n",
       "3  0.000000  0.505015    0.0          0.0  ...     0.0   0.0      0.0   \n",
       "4  0.000000  1.000000    0.0          0.0  ...     0.0   0.0      0.0   \n",
       "\n",
       "   mystery  nogenreslisted   romance  scifi  thriller  war  western  \n",
       "0      0.0             0.0  0.000000    0.0       0.0  0.0      0.0  \n",
       "1      0.0             0.0  0.000000    0.0       0.0  0.0      0.0  \n",
       "2      0.0             0.0  0.821009    0.0       0.0  0.0      0.0  \n",
       "3      0.0             0.0  0.726241    0.0       0.0  0.0      0.0  \n",
       "4      0.0             0.0  0.000000    0.0       0.0  0.0      0.0  \n",
       "\n",
       "[5 rows x 23 columns]"
      ]
     },
     "execution_count": 11,
     "metadata": {},
     "output_type": "execute_result"
    }
   ],
   "source": [
    "movies = pd.concat([movies, df], axis=1)\n",
    "movies.head()"
   ]
  },
  {
   "cell_type": "code",
   "execution_count": 12,
   "metadata": {},
   "outputs": [],
   "source": [
    "data = data.join(movies.set_index('movieId'), on='movieId')\n",
    "# теперь новые фичи - это TF-IDF жанров фильмов"
   ]
  },
  {
   "cell_type": "markdown",
   "metadata": {},
   "source": [
    "### Другие фичи"
   ]
  },
  {
   "cell_type": "code",
   "execution_count": 14,
   "metadata": {},
   "outputs": [],
   "source": [
    "# год фильма\n",
    "data['movie_year'] = data['title'].str.extract('(\\d{4})') "
   ]
  },
  {
   "cell_type": "code",
   "execution_count": 17,
   "metadata": {},
   "outputs": [],
   "source": [
    "# если год не указан, пишем 0\n",
    "data['movie_year'] = data['movie_year'].fillna(0)"
   ]
  },
  {
   "cell_type": "code",
   "execution_count": 18,
   "metadata": {},
   "outputs": [],
   "source": [
    "# количество жанров у фильма\n",
    "data['genres_count'] = data['genres'].apply(lambda x: len(str(x).split('|')))"
   ]
  },
  {
   "cell_type": "code",
   "execution_count": 19,
   "metadata": {},
   "outputs": [],
   "source": [
    "data.drop(['title', 'genres'], axis=1, inplace=True)"
   ]
  },
  {
   "cell_type": "markdown",
   "metadata": {},
   "source": [
    "### Средние оценки"
   ]
  },
  {
   "cell_type": "code",
   "execution_count": 20,
   "metadata": {},
   "outputs": [],
   "source": [
    "# средняя оценка пользователя и медиана оценки пользователя\n",
    "data['user_mean_rating'] = data.groupby('userId').rating.transform('mean')\n",
    "data['user_median_rating'] = data.groupby('userId').rating.transform('median')"
   ]
  },
  {
   "cell_type": "code",
   "execution_count": 21,
   "metadata": {},
   "outputs": [],
   "source": [
    "# средняя оценка фильма и медиана оценки фильма\n",
    "data['movie_mean_rating'] = data.groupby('movieId').rating.transform('mean')\n",
    "data['movie_median_rating'] = data.groupby('movieId').rating.transform('median')"
   ]
  },
  {
   "cell_type": "code",
   "execution_count": 23,
   "metadata": {},
   "outputs": [],
   "source": [
    "# количество тегов на фильм\n",
    "tags['tags_count'] = tags.groupby('movieId').tag.transform('count')"
   ]
  },
  {
   "cell_type": "code",
   "execution_count": 24,
   "metadata": {},
   "outputs": [],
   "source": [
    "data = data.join(tags.drop(['userId', 'tag', 'timestamp'], axis=1).drop_duplicates().set_index('movieId'), \n",
    "                 on='movieId')"
   ]
  },
  {
   "cell_type": "code",
   "execution_count": 25,
   "metadata": {},
   "outputs": [],
   "source": [
    "# если тегов у фильма нет, ставим 0\n",
    "data['tags_count'] = data['tags_count'].fillna(0)"
   ]
  },
  {
   "cell_type": "code",
   "execution_count": 26,
   "metadata": {
    "scrolled": true
   },
   "outputs": [
    {
     "data": {
      "text/html": [
       "<div>\n",
       "<style scoped>\n",
       "    .dataframe tbody tr th:only-of-type {\n",
       "        vertical-align: middle;\n",
       "    }\n",
       "\n",
       "    .dataframe tbody tr th {\n",
       "        vertical-align: top;\n",
       "    }\n",
       "\n",
       "    .dataframe thead th {\n",
       "        text-align: right;\n",
       "    }\n",
       "</style>\n",
       "<table border=\"1\" class=\"dataframe\">\n",
       "  <thead>\n",
       "    <tr style=\"text-align: right;\">\n",
       "      <th></th>\n",
       "      <th>userId</th>\n",
       "      <th>movieId</th>\n",
       "      <th>rating</th>\n",
       "      <th>action</th>\n",
       "      <th>adventure</th>\n",
       "      <th>animation</th>\n",
       "      <th>children</th>\n",
       "      <th>comedy</th>\n",
       "      <th>crime</th>\n",
       "      <th>documentary</th>\n",
       "      <th>...</th>\n",
       "      <th>thriller</th>\n",
       "      <th>war</th>\n",
       "      <th>western</th>\n",
       "      <th>movie_year</th>\n",
       "      <th>genres_count</th>\n",
       "      <th>user_mean_rating</th>\n",
       "      <th>user_median_rating</th>\n",
       "      <th>movie_mean_rating</th>\n",
       "      <th>movie_median_rating</th>\n",
       "      <th>tags_count</th>\n",
       "    </tr>\n",
       "  </thead>\n",
       "  <tbody>\n",
       "    <tr>\n",
       "      <td>0</td>\n",
       "      <td>1</td>\n",
       "      <td>1</td>\n",
       "      <td>4.0</td>\n",
       "      <td>0.000000</td>\n",
       "      <td>0.416846</td>\n",
       "      <td>0.516225</td>\n",
       "      <td>0.504845</td>\n",
       "      <td>0.267586</td>\n",
       "      <td>0.000000</td>\n",
       "      <td>0.0</td>\n",
       "      <td>...</td>\n",
       "      <td>0.000000</td>\n",
       "      <td>0.0</td>\n",
       "      <td>0.0</td>\n",
       "      <td>1995</td>\n",
       "      <td>5</td>\n",
       "      <td>4.366379</td>\n",
       "      <td>5.0</td>\n",
       "      <td>3.920930</td>\n",
       "      <td>4.0</td>\n",
       "      <td>3.0</td>\n",
       "    </tr>\n",
       "    <tr>\n",
       "      <td>1</td>\n",
       "      <td>1</td>\n",
       "      <td>3</td>\n",
       "      <td>4.0</td>\n",
       "      <td>0.000000</td>\n",
       "      <td>0.000000</td>\n",
       "      <td>0.000000</td>\n",
       "      <td>0.000000</td>\n",
       "      <td>0.570915</td>\n",
       "      <td>0.000000</td>\n",
       "      <td>0.0</td>\n",
       "      <td>...</td>\n",
       "      <td>0.000000</td>\n",
       "      <td>0.0</td>\n",
       "      <td>0.0</td>\n",
       "      <td>1995</td>\n",
       "      <td>2</td>\n",
       "      <td>4.366379</td>\n",
       "      <td>5.0</td>\n",
       "      <td>3.259615</td>\n",
       "      <td>3.0</td>\n",
       "      <td>2.0</td>\n",
       "    </tr>\n",
       "    <tr>\n",
       "      <td>2</td>\n",
       "      <td>1</td>\n",
       "      <td>6</td>\n",
       "      <td>4.0</td>\n",
       "      <td>0.549328</td>\n",
       "      <td>0.000000</td>\n",
       "      <td>0.000000</td>\n",
       "      <td>0.000000</td>\n",
       "      <td>0.000000</td>\n",
       "      <td>0.635947</td>\n",
       "      <td>0.0</td>\n",
       "      <td>...</td>\n",
       "      <td>0.542042</td>\n",
       "      <td>0.0</td>\n",
       "      <td>0.0</td>\n",
       "      <td>1995</td>\n",
       "      <td>3</td>\n",
       "      <td>4.366379</td>\n",
       "      <td>5.0</td>\n",
       "      <td>3.946078</td>\n",
       "      <td>4.0</td>\n",
       "      <td>0.0</td>\n",
       "    </tr>\n",
       "    <tr>\n",
       "      <td>3</td>\n",
       "      <td>1</td>\n",
       "      <td>47</td>\n",
       "      <td>5.0</td>\n",
       "      <td>0.000000</td>\n",
       "      <td>0.000000</td>\n",
       "      <td>0.000000</td>\n",
       "      <td>0.000000</td>\n",
       "      <td>0.000000</td>\n",
       "      <td>0.000000</td>\n",
       "      <td>0.0</td>\n",
       "      <td>...</td>\n",
       "      <td>0.566975</td>\n",
       "      <td>0.0</td>\n",
       "      <td>0.0</td>\n",
       "      <td>1995</td>\n",
       "      <td>2</td>\n",
       "      <td>4.366379</td>\n",
       "      <td>5.0</td>\n",
       "      <td>3.975369</td>\n",
       "      <td>4.0</td>\n",
       "      <td>3.0</td>\n",
       "    </tr>\n",
       "    <tr>\n",
       "      <td>4</td>\n",
       "      <td>1</td>\n",
       "      <td>50</td>\n",
       "      <td>5.0</td>\n",
       "      <td>0.000000</td>\n",
       "      <td>0.000000</td>\n",
       "      <td>0.000000</td>\n",
       "      <td>0.000000</td>\n",
       "      <td>0.000000</td>\n",
       "      <td>0.553854</td>\n",
       "      <td>0.0</td>\n",
       "      <td>...</td>\n",
       "      <td>0.472071</td>\n",
       "      <td>0.0</td>\n",
       "      <td>0.0</td>\n",
       "      <td>1995</td>\n",
       "      <td>3</td>\n",
       "      <td>4.366379</td>\n",
       "      <td>5.0</td>\n",
       "      <td>4.237745</td>\n",
       "      <td>4.5</td>\n",
       "      <td>6.0</td>\n",
       "    </tr>\n",
       "  </tbody>\n",
       "</table>\n",
       "<p>5 rows × 30 columns</p>\n",
       "</div>"
      ],
      "text/plain": [
       "   userId  movieId  rating    action  adventure  animation  children  \\\n",
       "0       1        1     4.0  0.000000   0.416846   0.516225  0.504845   \n",
       "1       1        3     4.0  0.000000   0.000000   0.000000  0.000000   \n",
       "2       1        6     4.0  0.549328   0.000000   0.000000  0.000000   \n",
       "3       1       47     5.0  0.000000   0.000000   0.000000  0.000000   \n",
       "4       1       50     5.0  0.000000   0.000000   0.000000  0.000000   \n",
       "\n",
       "     comedy     crime  documentary  ...  thriller  war  western  movie_year  \\\n",
       "0  0.267586  0.000000          0.0  ...  0.000000  0.0      0.0        1995   \n",
       "1  0.570915  0.000000          0.0  ...  0.000000  0.0      0.0        1995   \n",
       "2  0.000000  0.635947          0.0  ...  0.542042  0.0      0.0        1995   \n",
       "3  0.000000  0.000000          0.0  ...  0.566975  0.0      0.0        1995   \n",
       "4  0.000000  0.553854          0.0  ...  0.472071  0.0      0.0        1995   \n",
       "\n",
       "   genres_count  user_mean_rating  user_median_rating  movie_mean_rating  \\\n",
       "0             5          4.366379                 5.0           3.920930   \n",
       "1             2          4.366379                 5.0           3.259615   \n",
       "2             3          4.366379                 5.0           3.946078   \n",
       "3             2          4.366379                 5.0           3.975369   \n",
       "4             3          4.366379                 5.0           4.237745   \n",
       "\n",
       "   movie_median_rating  tags_count  \n",
       "0                  4.0         3.0  \n",
       "1                  3.0         2.0  \n",
       "2                  4.0         0.0  \n",
       "3                  4.0         3.0  \n",
       "4                  4.5         6.0  \n",
       "\n",
       "[5 rows x 30 columns]"
      ]
     },
     "execution_count": 26,
     "metadata": {},
     "output_type": "execute_result"
    }
   ],
   "source": [
    "data.head()"
   ]
  },
  {
   "cell_type": "markdown",
   "metadata": {},
   "source": [
    "### Нормализация данных"
   ]
  },
  {
   "cell_type": "code",
   "execution_count": 27,
   "metadata": {},
   "outputs": [],
   "source": [
    "X = data.drop('rating', axis=1)\n",
    "Y = data['rating']"
   ]
  },
  {
   "cell_type": "code",
   "execution_count": 28,
   "metadata": {},
   "outputs": [],
   "source": [
    "X_scaled = StandardScaler().fit_transform(X)\n",
    "X_scaled = pd.DataFrame(X_scaled, columns = X.columns)"
   ]
  },
  {
   "cell_type": "code",
   "execution_count": 29,
   "metadata": {},
   "outputs": [
    {
     "data": {
      "text/html": [
       "<div>\n",
       "<style scoped>\n",
       "    .dataframe tbody tr th:only-of-type {\n",
       "        vertical-align: middle;\n",
       "    }\n",
       "\n",
       "    .dataframe tbody tr th {\n",
       "        vertical-align: top;\n",
       "    }\n",
       "\n",
       "    .dataframe thead th {\n",
       "        text-align: right;\n",
       "    }\n",
       "</style>\n",
       "<table border=\"1\" class=\"dataframe\">\n",
       "  <thead>\n",
       "    <tr style=\"text-align: right;\">\n",
       "      <th></th>\n",
       "      <th>userId</th>\n",
       "      <th>movieId</th>\n",
       "      <th>action</th>\n",
       "      <th>adventure</th>\n",
       "      <th>animation</th>\n",
       "      <th>children</th>\n",
       "      <th>comedy</th>\n",
       "      <th>crime</th>\n",
       "      <th>documentary</th>\n",
       "      <th>drama</th>\n",
       "      <th>...</th>\n",
       "      <th>thriller</th>\n",
       "      <th>war</th>\n",
       "      <th>western</th>\n",
       "      <th>movie_year</th>\n",
       "      <th>genres_count</th>\n",
       "      <th>user_mean_rating</th>\n",
       "      <th>user_median_rating</th>\n",
       "      <th>movie_mean_rating</th>\n",
       "      <th>movie_median_rating</th>\n",
       "      <th>tags_count</th>\n",
       "    </tr>\n",
       "  </thead>\n",
       "  <tbody>\n",
       "    <tr>\n",
       "      <td>0</td>\n",
       "      <td>-1.780374</td>\n",
       "      <td>-0.546970</td>\n",
       "      <td>-0.640547</td>\n",
       "      <td>1.202840</td>\n",
       "      <td>3.31647</td>\n",
       "      <td>2.594924</td>\n",
       "      <td>0.169681</td>\n",
       "      <td>-0.433416</td>\n",
       "      <td>-0.110016</td>\n",
       "      <td>-0.72508</td>\n",
       "      <td>...</td>\n",
       "      <td>-0.573734</td>\n",
       "      <td>-0.222979</td>\n",
       "      <td>-0.138721</td>\n",
       "      <td>0.017464</td>\n",
       "      <td>1.909005</td>\n",
       "      <td>1.873188</td>\n",
       "      <td>2.568746</td>\n",
       "      <td>0.742308</td>\n",
       "      <td>0.696738</td>\n",
       "      <td>0.063233</td>\n",
       "    </tr>\n",
       "    <tr>\n",
       "      <td>1</td>\n",
       "      <td>-1.780374</td>\n",
       "      <td>-0.546914</td>\n",
       "      <td>-0.640547</td>\n",
       "      <td>-0.546057</td>\n",
       "      <td>-0.26763</td>\n",
       "      <td>-0.308243</td>\n",
       "      <td>1.148996</td>\n",
       "      <td>-0.433416</td>\n",
       "      <td>-0.110016</td>\n",
       "      <td>-0.72508</td>\n",
       "      <td>...</td>\n",
       "      <td>-0.573734</td>\n",
       "      <td>-0.222979</td>\n",
       "      <td>-0.138721</td>\n",
       "      <td>0.017464</td>\n",
       "      <td>-0.605097</td>\n",
       "      <td>1.873188</td>\n",
       "      <td>2.568746</td>\n",
       "      <td>-0.428247</td>\n",
       "      <td>-0.931450</td>\n",
       "      <td>-0.028782</td>\n",
       "    </tr>\n",
       "    <tr>\n",
       "      <td>2</td>\n",
       "      <td>-1.780374</td>\n",
       "      <td>-0.546830</td>\n",
       "      <td>1.605502</td>\n",
       "      <td>-0.546057</td>\n",
       "      <td>-0.26763</td>\n",
       "      <td>-0.308243</td>\n",
       "      <td>-0.694237</td>\n",
       "      <td>2.127576</td>\n",
       "      <td>-0.110016</td>\n",
       "      <td>-0.72508</td>\n",
       "      <td>...</td>\n",
       "      <td>1.641743</td>\n",
       "      <td>-0.222979</td>\n",
       "      <td>-0.138721</td>\n",
       "      <td>0.017464</td>\n",
       "      <td>0.232937</td>\n",
       "      <td>1.873188</td>\n",
       "      <td>2.568746</td>\n",
       "      <td>0.786821</td>\n",
       "      <td>0.696738</td>\n",
       "      <td>-0.212813</td>\n",
       "    </tr>\n",
       "    <tr>\n",
       "      <td>3</td>\n",
       "      <td>-1.780374</td>\n",
       "      <td>-0.545676</td>\n",
       "      <td>-0.640547</td>\n",
       "      <td>-0.546057</td>\n",
       "      <td>-0.26763</td>\n",
       "      <td>-0.308243</td>\n",
       "      <td>-0.694237</td>\n",
       "      <td>-0.433416</td>\n",
       "      <td>-0.110016</td>\n",
       "      <td>-0.72508</td>\n",
       "      <td>...</td>\n",
       "      <td>1.743648</td>\n",
       "      <td>-0.222979</td>\n",
       "      <td>-0.138721</td>\n",
       "      <td>0.017464</td>\n",
       "      <td>-0.605097</td>\n",
       "      <td>1.873188</td>\n",
       "      <td>2.568746</td>\n",
       "      <td>0.838668</td>\n",
       "      <td>0.696738</td>\n",
       "      <td>0.063233</td>\n",
       "    </tr>\n",
       "    <tr>\n",
       "      <td>4</td>\n",
       "      <td>-1.780374</td>\n",
       "      <td>-0.545591</td>\n",
       "      <td>-0.640547</td>\n",
       "      <td>-0.546057</td>\n",
       "      <td>-0.26763</td>\n",
       "      <td>-0.308243</td>\n",
       "      <td>-0.694237</td>\n",
       "      <td>1.796981</td>\n",
       "      <td>-0.110016</td>\n",
       "      <td>-0.72508</td>\n",
       "      <td>...</td>\n",
       "      <td>1.355751</td>\n",
       "      <td>-0.222979</td>\n",
       "      <td>-0.138721</td>\n",
       "      <td>0.017464</td>\n",
       "      <td>0.232937</td>\n",
       "      <td>1.873188</td>\n",
       "      <td>2.568746</td>\n",
       "      <td>1.303083</td>\n",
       "      <td>1.510833</td>\n",
       "      <td>0.339280</td>\n",
       "    </tr>\n",
       "  </tbody>\n",
       "</table>\n",
       "<p>5 rows × 29 columns</p>\n",
       "</div>"
      ],
      "text/plain": [
       "     userId   movieId    action  adventure  animation  children    comedy  \\\n",
       "0 -1.780374 -0.546970 -0.640547   1.202840    3.31647  2.594924  0.169681   \n",
       "1 -1.780374 -0.546914 -0.640547  -0.546057   -0.26763 -0.308243  1.148996   \n",
       "2 -1.780374 -0.546830  1.605502  -0.546057   -0.26763 -0.308243 -0.694237   \n",
       "3 -1.780374 -0.545676 -0.640547  -0.546057   -0.26763 -0.308243 -0.694237   \n",
       "4 -1.780374 -0.545591 -0.640547  -0.546057   -0.26763 -0.308243 -0.694237   \n",
       "\n",
       "      crime  documentary    drama  ...  thriller       war   western  \\\n",
       "0 -0.433416    -0.110016 -0.72508  ... -0.573734 -0.222979 -0.138721   \n",
       "1 -0.433416    -0.110016 -0.72508  ... -0.573734 -0.222979 -0.138721   \n",
       "2  2.127576    -0.110016 -0.72508  ...  1.641743 -0.222979 -0.138721   \n",
       "3 -0.433416    -0.110016 -0.72508  ...  1.743648 -0.222979 -0.138721   \n",
       "4  1.796981    -0.110016 -0.72508  ...  1.355751 -0.222979 -0.138721   \n",
       "\n",
       "   movie_year  genres_count  user_mean_rating  user_median_rating  \\\n",
       "0    0.017464      1.909005          1.873188            2.568746   \n",
       "1    0.017464     -0.605097          1.873188            2.568746   \n",
       "2    0.017464      0.232937          1.873188            2.568746   \n",
       "3    0.017464     -0.605097          1.873188            2.568746   \n",
       "4    0.017464      0.232937          1.873188            2.568746   \n",
       "\n",
       "   movie_mean_rating  movie_median_rating  tags_count  \n",
       "0           0.742308             0.696738    0.063233  \n",
       "1          -0.428247            -0.931450   -0.028782  \n",
       "2           0.786821             0.696738   -0.212813  \n",
       "3           0.838668             0.696738    0.063233  \n",
       "4           1.303083             1.510833    0.339280  \n",
       "\n",
       "[5 rows x 29 columns]"
      ]
     },
     "execution_count": 29,
     "metadata": {},
     "output_type": "execute_result"
    }
   ],
   "source": [
    "X_scaled.head()"
   ]
  },
  {
   "cell_type": "code",
   "execution_count": 30,
   "metadata": {},
   "outputs": [],
   "source": [
    "X_train, X_test, y_train, y_test = train_test_split(X_scaled, Y, test_size = 0.3, random_state = 44)"
   ]
  },
  {
   "cell_type": "code",
   "execution_count": 31,
   "metadata": {
    "scrolled": false
   },
   "outputs": [
    {
     "data": {
      "text/plain": [
       "((70585, 29), (30251, 29))"
      ]
     },
     "execution_count": 31,
     "metadata": {},
     "output_type": "execute_result"
    }
   ],
   "source": [
    "X_train.shape, X_test.shape"
   ]
  },
  {
   "cell_type": "markdown",
   "metadata": {},
   "source": [
    "### Обучение"
   ]
  },
  {
   "cell_type": "code",
   "execution_count": 42,
   "metadata": {},
   "outputs": [],
   "source": [
    "forest_params = {\n",
    "    'n_estimators': [50, 80, 100],\n",
    "    'max_depth': [10, 15, 18],\n",
    "    'min_samples_leaf': [5, 8, 10, 13],\n",
    "    'max_features': [15, 20, 25]\n",
    "}"
   ]
  },
  {
   "cell_type": "code",
   "execution_count": 43,
   "metadata": {},
   "outputs": [
    {
     "data": {
      "text/plain": [
       "GridSearchCV(cv=10, error_score='raise-deprecating',\n",
       "             estimator=RandomForestRegressor(bootstrap=True, criterion='mse',\n",
       "                                             max_depth=None,\n",
       "                                             max_features='auto',\n",
       "                                             max_leaf_nodes=None,\n",
       "                                             min_impurity_decrease=0.0,\n",
       "                                             min_impurity_split=None,\n",
       "                                             min_samples_leaf=1,\n",
       "                                             min_samples_split=2,\n",
       "                                             min_weight_fraction_leaf=0.0,\n",
       "                                             n_estimators='warn', n_jobs=None,\n",
       "                                             oob_score=False, random_state=17,\n",
       "                                             verbose=0, warm_start=False),\n",
       "             iid='warn', n_jobs=-1,\n",
       "             param_grid={'max_depth': [10, 15, 18],\n",
       "                         'max_features': [15, 20, 25],\n",
       "                         'min_samples_leaf': [5, 8, 10, 13],\n",
       "                         'n_estimators': [50, 80, 100]},\n",
       "             pre_dispatch='2*n_jobs', refit=True, return_train_score=False,\n",
       "             scoring=None, verbose=0)"
      ]
     },
     "execution_count": 43,
     "metadata": {},
     "output_type": "execute_result"
    }
   ],
   "source": [
    "forest = RandomForestRegressor(random_state=17)\n",
    "grid_forest = GridSearchCV(forest, forest_params, cv=10, n_jobs=-1)\n",
    "grid_forest.fit(X_train, y_train)"
   ]
  },
  {
   "cell_type": "code",
   "execution_count": 44,
   "metadata": {
    "scrolled": true
   },
   "outputs": [
    {
     "name": "stdout",
     "output_type": "stream",
     "text": [
      "{'max_depth': 15, 'max_features': 25, 'min_samples_leaf': 13, 'n_estimators': 100}\n",
      "0.4215963060954705\n",
      "RandomForestRegressor(bootstrap=True, criterion='mse', max_depth=15,\n",
      "                      max_features=25, max_leaf_nodes=None,\n",
      "                      min_impurity_decrease=0.0, min_impurity_split=None,\n",
      "                      min_samples_leaf=13, min_samples_split=2,\n",
      "                      min_weight_fraction_leaf=0.0, n_estimators=100,\n",
      "                      n_jobs=None, oob_score=False, random_state=17, verbose=0,\n",
      "                      warm_start=False)\n"
     ]
    }
   ],
   "source": [
    "print(grid_forest.best_params_)\n",
    "print(grid_forest.best_score_)\n",
    "print(grid_forest.best_estimator_)"
   ]
  },
  {
   "cell_type": "markdown",
   "metadata": {},
   "source": [
    "### Оценка RMSE"
   ]
  },
  {
   "cell_type": "code",
   "execution_count": 52,
   "metadata": {},
   "outputs": [],
   "source": [
    "train_scores = cross_val_score(grid_forest.best_estimator_, X_train, y_train, cv=10)"
   ]
  },
  {
   "cell_type": "code",
   "execution_count": 57,
   "metadata": {},
   "outputs": [
    {
     "name": "stdout",
     "output_type": "stream",
     "text": [
      "Средняя оценка RMSE на train выборке: 0.6492909838082613\n"
     ]
    }
   ],
   "source": [
    "print('Средняя оценка RMSE на train выборке:', np.mean(np.sqrt(train_scores)))"
   ]
  },
  {
   "cell_type": "code",
   "execution_count": 54,
   "metadata": {},
   "outputs": [],
   "source": [
    "test_scores = cross_val_score(grid_forest.best_estimator_, X_test, y_test, cv=10)"
   ]
  },
  {
   "cell_type": "code",
   "execution_count": 58,
   "metadata": {},
   "outputs": [
    {
     "name": "stdout",
     "output_type": "stream",
     "text": [
      "Средняя оценка RMSE на test выборке: 0.6492909838082613\n"
     ]
    }
   ],
   "source": [
    "print('Средняя оценка RMSE на test выборке:', np.mean(np.sqrt(train_scores)))"
   ]
  }
 ],
 "metadata": {
  "kernelspec": {
   "display_name": "Python 3",
   "language": "python",
   "name": "python3"
  },
  "language_info": {
   "codemirror_mode": {
    "name": "ipython",
    "version": 3
   },
   "file_extension": ".py",
   "mimetype": "text/x-python",
   "name": "python",
   "nbconvert_exporter": "python",
   "pygments_lexer": "ipython3",
   "version": "3.7.4"
  }
 },
 "nbformat": 4,
 "nbformat_minor": 2
}
