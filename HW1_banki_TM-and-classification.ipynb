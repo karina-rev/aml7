{
 "cells": [
  {
   "cell_type": "code",
   "execution_count": 73,
   "metadata": {},
   "outputs": [
    {
     "name": "stdout",
     "output_type": "stream",
     "text": [
      "Populating the interactive namespace from numpy and matplotlib\n"
     ]
    }
   ],
   "source": [
    "import json\n",
    "import bz2\n",
    "import regex\n",
    "import re\n",
    "import pandas as pd\n",
    "import numpy as np\n",
    "import nltk\n",
    "import matplotlib.pyplot as plt\n",
    "import seaborn as sns\n",
    "\n",
    "from nltk.corpus import stopwords\n",
    "from tqdm import tqdm\n",
    "from scipy import sparse\n",
    "from pymystem3 import Mystem\n",
    "from collections import Counter\n",
    "from string import punctuation\n",
    "from sklearn.feature_extraction.text import TfidfVectorizer, CountVectorizer, TfidfTransformer\n",
    "from sklearn.decomposition import TruncatedSVD, LatentDirichletAllocation\n",
    "from sklearn.model_selection import train_test_split, cross_val_score\n",
    "from sklearn.pipeline import Pipeline\n",
    "from sklearn.ensemble import RandomForestClassifier\n",
    "from sklearn.metrics import accuracy_score, f1_score\n",
    "from nltk.tokenize import word_tokenize\n",
    "from gensim.corpora import Dictionary\n",
    "from gensim.models import TfidfModel\n",
    "from gensim.models import lsimodel\n",
    "from gensim import similarities\n",
    "\n",
    "%matplotlib inline\n",
    "%pylab inline"
   ]
  },
  {
   "cell_type": "code",
   "execution_count": 2,
   "metadata": {
    "scrolled": false
   },
   "outputs": [
    {
     "name": "stderr",
     "output_type": "stream",
     "text": [
      "201030it [01:38, 2036.44it/s]\n"
     ]
    }
   ],
   "source": [
    "responses = []\n",
    "with bz2.BZ2File('banki_responses.json.bz2', 'r') as thefile:\n",
    "    for row in tqdm(thefile):\n",
    "        resp = json.loads(row)\n",
    "        if not resp['rating_not_checked'] and (len(resp['text'].split()) > 0):\n",
    "            responses.append(resp)"
   ]
  },
  {
   "cell_type": "markdown",
   "metadata": {},
   "source": [
    "#  Домашнее задание по NLP # 1 [100 баллов]\n",
    "## Классификация по тональности \n",
    "\n",
    "В этом домашнем задании вам предстоит классифицировать по тональности отзывы на банки с сайта banki.ru.\n",
    "\n",
    "Данные содержат непосредственно тексты отзывов, некоторую дополнительную информацию, а также оценку по шкале от 1 до 5. \n",
    "\n",
    "Тексты хранятся в json-ах в массиве responses.\n",
    "\n",
    "Посмотрим на пример отзыва:"
   ]
  },
  {
   "cell_type": "code",
   "execution_count": 3,
   "metadata": {
    "scrolled": true
   },
   "outputs": [
    {
     "data": {
      "text/plain": [
       "{'city': 'г. Саратов',\n",
       " 'rating_not_checked': False,\n",
       " 'title': 'Карта ко вкладу',\n",
       " 'num_comments': 0,\n",
       " 'bank_license': 'лицензия № 880',\n",
       " 'author': 'ronnichka',\n",
       " 'bank_name': 'Югра',\n",
       " 'datetime': '2015-06-03 20:56:57',\n",
       " 'text': 'Здравствуйте! Хотела написать, что мне месяц не выдают карту ко вкладу, ссылаясь на \"нам же их из Самары везут\" (на секундочку 5 часов езды от нашего города). Но! Прочитала, что людям 3,5 месяцев не выдают карту, и поняла, что у меня все хорошо, пока что. И подарок мне дали, и кулер в отделении есть. Так что я, конечно, готова ждать. Правда хотелось бы не очень долго.',\n",
       " 'rating_grade': 3}"
      ]
     },
     "execution_count": 3,
     "metadata": {},
     "output_type": "execute_result"
    }
   ],
   "source": [
    "responses[99]"
   ]
  },
  {
   "cell_type": "markdown",
   "metadata": {},
   "source": [
    "## Часть 1. Анализ текстов [40/100]\n",
    "\n",
    "1. Посчитайте количество отзывов в разных городах и на разные банки\n",
    "2. Постройте гистограмы длин слов в символах и в словах\n",
    "3. Найдите 10 самых частых:\n",
    "    * слов\n",
    "    * слов без стоп-слов\n",
    "    * лемм \n",
    "* существительных\n",
    "4. Постройте кривые Ципфа и Хипса\n",
    "5. Ответьте на следующие вопросы:\n",
    "    * какое слово встречается чаще, \"сотрудник\" или \"клиент\"?\n",
    "    * сколько раз встречается слова \"мошенничество\" и \"доверие\"?\n",
    "6. В поле \"rating_grade\" записана оценка отзыва по шкале от 1 до 5. Используйте меру $tf-idf$, для того, чтобы найти ключевые слова и биграмы для положительных отзывов (с оценкой 5) и отрицательных отзывов (с оценкой 1)"
   ]
  },
  {
   "cell_type": "code",
   "execution_count": 4,
   "metadata": {},
   "outputs": [],
   "source": [
    "data = pd.DataFrame(responses)"
   ]
  },
  {
   "cell_type": "code",
   "execution_count": 5,
   "metadata": {
    "scrolled": false
   },
   "outputs": [
    {
     "data": {
      "text/html": [
       "<div>\n",
       "<style scoped>\n",
       "    .dataframe tbody tr th:only-of-type {\n",
       "        vertical-align: middle;\n",
       "    }\n",
       "\n",
       "    .dataframe tbody tr th {\n",
       "        vertical-align: top;\n",
       "    }\n",
       "\n",
       "    .dataframe thead th {\n",
       "        text-align: right;\n",
       "    }\n",
       "</style>\n",
       "<table border=\"1\" class=\"dataframe\">\n",
       "  <thead>\n",
       "    <tr style=\"text-align: right;\">\n",
       "      <th></th>\n",
       "      <th>city</th>\n",
       "      <th>rating_not_checked</th>\n",
       "      <th>title</th>\n",
       "      <th>num_comments</th>\n",
       "      <th>bank_license</th>\n",
       "      <th>author</th>\n",
       "      <th>bank_name</th>\n",
       "      <th>datetime</th>\n",
       "      <th>text</th>\n",
       "      <th>rating_grade</th>\n",
       "    </tr>\n",
       "  </thead>\n",
       "  <tbody>\n",
       "    <tr>\n",
       "      <th>0</th>\n",
       "      <td>г. Москва</td>\n",
       "      <td>False</td>\n",
       "      <td>Жалоба</td>\n",
       "      <td>0</td>\n",
       "      <td>лицензия № 2562</td>\n",
       "      <td>uhnov1</td>\n",
       "      <td>Бинбанк</td>\n",
       "      <td>2015-06-08 12:50:54</td>\n",
       "      <td>Добрый день! Я не являюсь клиентом банка и пор...</td>\n",
       "      <td>NaN</td>\n",
       "    </tr>\n",
       "    <tr>\n",
       "      <th>1</th>\n",
       "      <td>г. Новосибирск</td>\n",
       "      <td>False</td>\n",
       "      <td>Не могу пользоваться услугой Сбербанк он-лайн</td>\n",
       "      <td>0</td>\n",
       "      <td>лицензия № 1481</td>\n",
       "      <td>Foryou</td>\n",
       "      <td>Сбербанк России</td>\n",
       "      <td>2015-06-08 11:09:57</td>\n",
       "      <td>Доброго дня! Являюсь держателем зарплатной кар...</td>\n",
       "      <td>NaN</td>\n",
       "    </tr>\n",
       "    <tr>\n",
       "      <th>2</th>\n",
       "      <td>г. Москва</td>\n",
       "      <td>False</td>\n",
       "      <td>Двойное списание за один товар.</td>\n",
       "      <td>1</td>\n",
       "      <td>лицензия № 2562</td>\n",
       "      <td>Vladimir84</td>\n",
       "      <td>Бинбанк</td>\n",
       "      <td>2015-06-05 20:14:28</td>\n",
       "      <td>Здравствуйте!  Дублирую свое заявление от 03.0...</td>\n",
       "      <td>NaN</td>\n",
       "    </tr>\n",
       "    <tr>\n",
       "      <th>3</th>\n",
       "      <td>г. Ставрополь</td>\n",
       "      <td>False</td>\n",
       "      <td>Меняют проценты комиссии  не предупредив и не ...</td>\n",
       "      <td>2</td>\n",
       "      <td>лицензия № 1481</td>\n",
       "      <td>643609</td>\n",
       "      <td>Сбербанк России</td>\n",
       "      <td>2015-06-05 13:51:01</td>\n",
       "      <td>Добрый день!! Я открыл расчетный счет в СберБа...</td>\n",
       "      <td>NaN</td>\n",
       "    </tr>\n",
       "    <tr>\n",
       "      <th>4</th>\n",
       "      <td>г. Челябинск</td>\n",
       "      <td>False</td>\n",
       "      <td>Верните денежные средства за страховку</td>\n",
       "      <td>1</td>\n",
       "      <td>лицензия № 2766</td>\n",
       "      <td>anfisa-2003</td>\n",
       "      <td>ОТП Банк</td>\n",
       "      <td>2015-06-05 10:58:12</td>\n",
       "      <td>04.03.2015 г. взяла кредит в вашем банке, заяв...</td>\n",
       "      <td>NaN</td>\n",
       "    </tr>\n",
       "  </tbody>\n",
       "</table>\n",
       "</div>"
      ],
      "text/plain": [
       "             city  rating_not_checked  \\\n",
       "0       г. Москва               False   \n",
       "1  г. Новосибирск               False   \n",
       "2       г. Москва               False   \n",
       "3   г. Ставрополь               False   \n",
       "4    г. Челябинск               False   \n",
       "\n",
       "                                               title  num_comments  \\\n",
       "0                                             Жалоба             0   \n",
       "1      Не могу пользоваться услугой Сбербанк он-лайн             0   \n",
       "2                    Двойное списание за один товар.             1   \n",
       "3  Меняют проценты комиссии  не предупредив и не ...             2   \n",
       "4             Верните денежные средства за страховку             1   \n",
       "\n",
       "      bank_license       author        bank_name             datetime  \\\n",
       "0  лицензия № 2562       uhnov1          Бинбанк  2015-06-08 12:50:54   \n",
       "1  лицензия № 1481       Foryou  Сбербанк России  2015-06-08 11:09:57   \n",
       "2  лицензия № 2562   Vladimir84          Бинбанк  2015-06-05 20:14:28   \n",
       "3  лицензия № 1481       643609  Сбербанк России  2015-06-05 13:51:01   \n",
       "4  лицензия № 2766  anfisa-2003         ОТП Банк  2015-06-05 10:58:12   \n",
       "\n",
       "                                                text  rating_grade  \n",
       "0  Добрый день! Я не являюсь клиентом банка и пор...           NaN  \n",
       "1  Доброго дня! Являюсь держателем зарплатной кар...           NaN  \n",
       "2  Здравствуйте!  Дублирую свое заявление от 03.0...           NaN  \n",
       "3  Добрый день!! Я открыл расчетный счет в СберБа...           NaN  \n",
       "4  04.03.2015 г. взяла кредит в вашем банке, заяв...           NaN  "
      ]
     },
     "execution_count": 5,
     "metadata": {},
     "output_type": "execute_result"
    }
   ],
   "source": [
    "data.head()"
   ]
  },
  {
   "cell_type": "code",
   "execution_count": 6,
   "metadata": {},
   "outputs": [
    {
     "name": "stdout",
     "output_type": "stream",
     "text": [
      "<class 'pandas.core.frame.DataFrame'>\n",
      "RangeIndex: 153499 entries, 0 to 153498\n",
      "Data columns (total 10 columns):\n",
      " #   Column              Non-Null Count   Dtype  \n",
      "---  ------              --------------   -----  \n",
      " 0   city                138325 non-null  object \n",
      " 1   rating_not_checked  153499 non-null  bool   \n",
      " 2   title               153499 non-null  object \n",
      " 3   num_comments        153499 non-null  int64  \n",
      " 4   bank_license        153498 non-null  object \n",
      " 5   author              153479 non-null  object \n",
      " 6   bank_name           153499 non-null  object \n",
      " 7   datetime            153499 non-null  object \n",
      " 8   text                153499 non-null  object \n",
      " 9   rating_grade        88658 non-null   float64\n",
      "dtypes: bool(1), float64(1), int64(1), object(7)\n",
      "memory usage: 10.7+ MB\n"
     ]
    }
   ],
   "source": [
    "data.info()"
   ]
  },
  {
   "cell_type": "markdown",
   "metadata": {},
   "source": [
    "1. Посчитайте количество отзывов в разных городах и на разные банки"
   ]
  },
  {
   "cell_type": "markdown",
   "metadata": {},
   "source": [
    "Приведем все названия городов к нижнему регистру для единобразия и почистим самые частые сокращения и ошибки."
   ]
  },
  {
   "cell_type": "code",
   "execution_count": 7,
   "metadata": {},
   "outputs": [],
   "source": [
    "data['city'] = data['city'].str.lower()\n",
    "\n",
    "data['city'] = data['city'].str.replace('moscow', 'москва')\n",
    "data['city'] = data['city'].str.replace('г. г. москва', 'г. москва')\n",
    "data['city'] = data['city'].str.replace('г. г.москва', 'г. москва')\n",
    "data['city'] = data['city'].str.replace('мск', 'москва')\n",
    "\n",
    "data['city'] = data['city'].str.replace('спб', 'санкт-петербург')\n",
    "data['city'] = data['city'].str.replace('с-пб', 'санкт-петербург')\n",
    "data['city'] = data['city'].str.replace('питер', 'санкт-петербург')\n",
    "data['city'] = data['city'].str.replace('санкт петербург', 'санкт-петербург')\n",
    "data['city'] = data['city'].str.replace('санкт- петербург', 'санкт-петербург')\n",
    "data['city'] = data['city'].str.replace('с-петербург', 'санкт-петербург')\n",
    "data['city'] = data['city'].str.replace('санкт - петербург', 'санкт-петербург')\n",
    "data['city'] = data['city'].str.replace('санк-петербург', 'санкт-петербург')\n",
    "data['city'] = data['city'].str.replace('г. петербург', 'г. санкт-петербург')\n",
    "\n",
    "data['city'] = data['city'].str.replace('ростов на дону', 'ростов-на-дону')\n",
    "data['city'] = data['city'].str.replace('н.новгород', 'нижний новгород')"
   ]
  },
  {
   "cell_type": "code",
   "execution_count": 8,
   "metadata": {},
   "outputs": [],
   "source": [
    "data['bank_name'] = data['bank_name'].str.replace('БИНБАНК кредитные карты', 'Бинбанк')"
   ]
  },
  {
   "cell_type": "code",
   "execution_count": 9,
   "metadata": {},
   "outputs": [],
   "source": [
    "response_count = data.groupby(['city', 'bank_name']).city.agg('count').to_frame('response_count').\\\n",
    "                      sort_values(by='response_count', ascending=False).reset_index()"
   ]
  },
  {
   "cell_type": "code",
   "execution_count": 10,
   "metadata": {},
   "outputs": [
    {
     "data": {
      "text/html": [
       "<div>\n",
       "<style scoped>\n",
       "    .dataframe tbody tr th:only-of-type {\n",
       "        vertical-align: middle;\n",
       "    }\n",
       "\n",
       "    .dataframe tbody tr th {\n",
       "        vertical-align: top;\n",
       "    }\n",
       "\n",
       "    .dataframe thead th {\n",
       "        text-align: right;\n",
       "    }\n",
       "</style>\n",
       "<table border=\"1\" class=\"dataframe\">\n",
       "  <thead>\n",
       "    <tr style=\"text-align: right;\">\n",
       "      <th></th>\n",
       "      <th>city</th>\n",
       "      <th>bank_name</th>\n",
       "      <th>response_count</th>\n",
       "    </tr>\n",
       "  </thead>\n",
       "  <tbody>\n",
       "    <tr>\n",
       "      <th>0</th>\n",
       "      <td>г. москва</td>\n",
       "      <td>Сбербанк России</td>\n",
       "      <td>8344</td>\n",
       "    </tr>\n",
       "    <tr>\n",
       "      <th>1</th>\n",
       "      <td>г. москва</td>\n",
       "      <td>Альфа-Банк</td>\n",
       "      <td>3979</td>\n",
       "    </tr>\n",
       "    <tr>\n",
       "      <th>2</th>\n",
       "      <td>г. москва</td>\n",
       "      <td>Русский Стандарт</td>\n",
       "      <td>2907</td>\n",
       "    </tr>\n",
       "    <tr>\n",
       "      <th>3</th>\n",
       "      <td>г. москва</td>\n",
       "      <td>ВТБ 24</td>\n",
       "      <td>2761</td>\n",
       "    </tr>\n",
       "    <tr>\n",
       "      <th>4</th>\n",
       "      <td>г. санкт-петербург</td>\n",
       "      <td>Сбербанк России</td>\n",
       "      <td>2638</td>\n",
       "    </tr>\n",
       "    <tr>\n",
       "      <th>5</th>\n",
       "      <td>г. москва</td>\n",
       "      <td>Московский Кредитный Банк</td>\n",
       "      <td>2407</td>\n",
       "    </tr>\n",
       "    <tr>\n",
       "      <th>6</th>\n",
       "      <td>г. москва</td>\n",
       "      <td>Тинькофф Банк</td>\n",
       "      <td>2392</td>\n",
       "    </tr>\n",
       "    <tr>\n",
       "      <th>7</th>\n",
       "      <td>г. москва</td>\n",
       "      <td>Хоум Кредит Банк</td>\n",
       "      <td>2196</td>\n",
       "    </tr>\n",
       "    <tr>\n",
       "      <th>8</th>\n",
       "      <td>г. москва</td>\n",
       "      <td>Национальный Банк «Траст»</td>\n",
       "      <td>1696</td>\n",
       "    </tr>\n",
       "    <tr>\n",
       "      <th>9</th>\n",
       "      <td>г. москва</td>\n",
       "      <td>Райффайзенбанк</td>\n",
       "      <td>1465</td>\n",
       "    </tr>\n",
       "  </tbody>\n",
       "</table>\n",
       "</div>"
      ],
      "text/plain": [
       "                 city                  bank_name  response_count\n",
       "0           г. москва            Сбербанк России            8344\n",
       "1           г. москва                 Альфа-Банк            3979\n",
       "2           г. москва           Русский Стандарт            2907\n",
       "3           г. москва                     ВТБ 24            2761\n",
       "4  г. санкт-петербург            Сбербанк России            2638\n",
       "5           г. москва  Московский Кредитный Банк            2407\n",
       "6           г. москва              Тинькофф Банк            2392\n",
       "7           г. москва           Хоум Кредит Банк            2196\n",
       "8           г. москва  Национальный Банк «Траст»            1696\n",
       "9           г. москва             Райффайзенбанк            1465"
      ]
     },
     "execution_count": 10,
     "metadata": {},
     "output_type": "execute_result"
    }
   ],
   "source": [
    "response_count.head(10)"
   ]
  },
  {
   "cell_type": "markdown",
   "metadata": {},
   "source": [
    "2. Постройте гистограмы длин слов в символах и в словах"
   ]
  },
  {
   "cell_type": "code",
   "execution_count": 11,
   "metadata": {},
   "outputs": [
    {
     "data": {
      "image/png": "[encoded data removed]",
      "text/plain": [
       "<Figure size 1008x504 with 2 Axes>"
      ]
     },
     "metadata": {
      "needs_background": "light"
     },
     "output_type": "display_data"
    }
   ],
   "source": [
    "fig, axis = plt.subplots(ncols=2, figsize = (14,7))\n",
    "text_len = data['text'].str.len()\n",
    "title_len = data['title'].str.len()\n",
    "\n",
    "axis[0].hist(text_len, color='blue')\n",
    "axis[0].set_title('Текст отзыва (text)')\n",
    "axis[1].hist(title_len, color='green')\n",
    "axis[1].set_title('Заголовок отзыва (title)')\n",
    "\n",
    "fig.suptitle('Гистограммы длин символов')\n",
    "plt.show()"
   ]
  },
  {
   "cell_type": "code",
   "execution_count": 12,
   "metadata": {},
   "outputs": [
    {
     "data": {
      "image/png": "[encoded data removed]",
      "text/plain": [
       "<Figure size 1008x504 with 2 Axes>"
      ]
     },
     "metadata": {
      "needs_background": "light"
     },
     "output_type": "display_data"
    }
   ],
   "source": [
    "fig, axis = plt.subplots(ncols=2, figsize = (14,7))\n",
    "text_len = data['text'].str.split().map(lambda x: len(x))\n",
    "title_len = data['title'].str.split().map(lambda x: len(x))\n",
    "\n",
    "axis[0].hist(text_len, color='blue')\n",
    "axis[0].set_title('Текст отзыва (text)')\n",
    "axis[1].hist(title_len, color='green')\n",
    "axis[1].set_title('Заголовок отзыва (title)')\n",
    "\n",
    "fig.suptitle('Гистограммы длин слов')\n",
    "plt.show()"
   ]
  },
  {
   "cell_type": "markdown",
   "metadata": {},
   "source": [
    "3. Найдите 10 самых частых: \n",
    "    * слов\n",
    "    * слов без стоп-слов\n",
    "    * лемм\n",
    "    * существительных"
   ]
  },
  {
   "cell_type": "code",
   "execution_count": 13,
   "metadata": {},
   "outputs": [],
   "source": [
    "m = Mystem()\n",
    "mystopwords = stopwords.words('russian') + [\n",
    "    'это', 'наш' , 'тыс', 'млн', 'млрд', 'также',  'т', 'д',\n",
    "    'который','прошлый','сей', 'свой', 'наш', 'мочь', 'такой'\n",
    "]\n",
    "ru_words = re.compile(\"[А-Яа-я]+\")"
   ]
  },
  {
   "cell_type": "markdown",
   "metadata": {},
   "source": [
    "**10 самых частых слов**"
   ]
  },
  {
   "cell_type": "code",
   "execution_count": 14,
   "metadata": {
    "scrolled": true
   },
   "outputs": [],
   "source": [
    "text_words = [word for text in data['text'] for word in ru_words.findall(text.lower())]\n",
    "title_words = [word for text in data['title'] for word in ru_words.findall(text.lower())]"
   ]
  },
  {
   "cell_type": "code",
   "execution_count": 15,
   "metadata": {},
   "outputs": [],
   "source": [
    "cnt_text_words = Counter(text_words)\n",
    "cnt_title_words = Counter(title_words)"
   ]
  },
  {
   "cell_type": "markdown",
   "metadata": {},
   "source": [
    "10 самых частых слов в тексте отзыва:"
   ]
  },
  {
   "cell_type": "code",
   "execution_count": 16,
   "metadata": {},
   "outputs": [
    {
     "name": "stdout",
     "output_type": "stream",
     "text": [
      "('в', 1330550)\n",
      "('и', 1058997)\n",
      "('не', 855335)\n",
      "('на', 707935)\n",
      "('что', 640057)\n",
      "('я', 577500)\n",
      "('с', 464037)\n",
      "('по', 372769)\n",
      "('мне', 320958)\n",
      "('банка', 275906)\n"
     ]
    }
   ],
   "source": [
    "for i in cnt_text_words.most_common(10):\n",
    "    print(i)"
   ]
  },
  {
   "cell_type": "markdown",
   "metadata": {},
   "source": [
    "10 самых частых слов в заголовке отзыва:"
   ]
  },
  {
   "cell_type": "code",
   "execution_count": 17,
   "metadata": {
    "scrolled": true
   },
   "outputs": [
    {
     "name": "stdout",
     "output_type": "stream",
     "text": [
      "('не', 21420)\n",
      "('в', 18884)\n",
      "('и', 12990)\n",
      "('банк', 12515)\n",
      "('на', 12039)\n",
      "('с', 11565)\n",
      "('деньги', 9265)\n",
      "('банка', 9232)\n",
      "('по', 8904)\n",
      "('карты', 6928)\n"
     ]
    }
   ],
   "source": [
    "for i in cnt_title_words.most_common(10):\n",
    "    print(i)"
   ]
  },
  {
   "cell_type": "markdown",
   "metadata": {},
   "source": [
    "**10 самых частых слов без стоп-слов**"
   ]
  },
  {
   "cell_type": "code",
   "execution_count": 18,
   "metadata": {},
   "outputs": [],
   "source": [
    "text_words_stop = [word for word in text_words if not word in mystopwords]\n",
    "title_words_stop = [word for word in title_words if not word in mystopwords]"
   ]
  },
  {
   "cell_type": "code",
   "execution_count": 19,
   "metadata": {},
   "outputs": [],
   "source": [
    "cnt_text_stop = Counter(text_words_stop)\n",
    "cnt_title_stop = Counter(title_words_stop)"
   ]
  },
  {
   "cell_type": "markdown",
   "metadata": {},
   "source": [
    "10 самых частых слов без стоп-слов в тексте отзыва:"
   ]
  },
  {
   "cell_type": "code",
   "execution_count": 20,
   "metadata": {
    "scrolled": true
   },
   "outputs": [
    {
     "name": "stdout",
     "output_type": "stream",
     "text": [
      "('банка', 275906)\n",
      "('банк', 215426)\n",
      "('деньги', 131201)\n",
      "('карту', 105829)\n",
      "('карты', 101821)\n",
      "('кредит', 81136)\n",
      "('день', 76552)\n",
      "('банке', 72169)\n",
      "('заявление', 70423)\n",
      "('очень', 66824)\n"
     ]
    }
   ],
   "source": [
    "for i in cnt_text_stop.most_common(10):\n",
    "    print(i)"
   ]
  },
  {
   "cell_type": "markdown",
   "metadata": {},
   "source": [
    "10 самых частых слов без стоп-слов в заголовке отзыва:"
   ]
  },
  {
   "cell_type": "code",
   "execution_count": 21,
   "metadata": {},
   "outputs": [
    {
     "name": "stdout",
     "output_type": "stream",
     "text": [
      "('банк', 12515)\n",
      "('деньги', 9265)\n",
      "('банка', 9232)\n",
      "('карты', 6928)\n",
      "('кредит', 4131)\n",
      "('обслуживание', 3841)\n",
      "('банкомат', 3554)\n",
      "('карту', 3243)\n",
      "('сбербанк', 3033)\n",
      "('сотрудников', 2782)\n"
     ]
    }
   ],
   "source": [
    "for i in cnt_title_stop.most_common(10):\n",
    "    print(i)"
   ]
  },
  {
   "cell_type": "markdown",
   "metadata": {},
   "source": [
    "**10 самых частых лемм**"
   ]
  },
  {
   "cell_type": "code",
   "execution_count": 22,
   "metadata": {},
   "outputs": [],
   "source": [
    "text_words_lemm = [m.lemmatize(word)[0] for word in text_words_stop]\n",
    "title_words_lemm = [m.lemmatize(word)[0] for word in title_words_stop]"
   ]
  },
  {
   "cell_type": "code",
   "execution_count": 23,
   "metadata": {},
   "outputs": [],
   "source": [
    "cnt_text_lemm = Counter(text_words_lemm)\n",
    "cnt_title_lemm = Counter(title_words_lemm)"
   ]
  },
  {
   "cell_type": "markdown",
   "metadata": {},
   "source": [
    "10 самых частых лемм в тексте отзыва:"
   ]
  },
  {
   "cell_type": "code",
   "execution_count": 24,
   "metadata": {},
   "outputs": [
    {
     "name": "stdout",
     "output_type": "stream",
     "text": [
      "('банк', 364704)\n",
      "('карта', 334999)\n",
      "('банка', 303889)\n",
      "('деньги', 179734)\n",
      "('день', 172952)\n",
      "('мой', 163042)\n",
      "('кредит', 156177)\n",
      "('отделение', 144050)\n",
      "('клиент', 136892)\n",
      "('сотрудник', 134168)\n"
     ]
    }
   ],
   "source": [
    "for i in cnt_text_lemm.most_common(10):\n",
    "    print(i)"
   ]
  },
  {
   "cell_type": "markdown",
   "metadata": {},
   "source": [
    "10 самых частых лемм в заголовке отзыва:"
   ]
  },
  {
   "cell_type": "code",
   "execution_count": 25,
   "metadata": {},
   "outputs": [
    {
     "name": "stdout",
     "output_type": "stream",
     "text": [
      "('банк', 16632)\n",
      "('карта', 16259)\n",
      "('деньги', 11915)\n",
      "('банка', 10365)\n",
      "('кредит', 8107)\n",
      "('клиент', 7411)\n",
      "('банкомат', 5941)\n",
      "('сбербанк', 5776)\n",
      "('сотрудник', 5739)\n",
      "('обслуживание', 5499)\n"
     ]
    }
   ],
   "source": [
    "for i in cnt_title_lemm.most_common(10):\n",
    "    print(i)"
   ]
  },
  {
   "cell_type": "markdown",
   "metadata": {},
   "source": [
    "**10 самых частых существительных**"
   ]
  },
  {
   "cell_type": "code",
   "execution_count": 26,
   "metadata": {
    "scrolled": true
   },
   "outputs": [],
   "source": [
    "m = Mystem()\n",
    "text_words_s = [word for word in text_words_lemm if m.analyze(word)[0]['analysis'] and \n",
    "              'S' in m.analyze(word)[0]['analysis'][0]['gr']]\n",
    "title_words_s = [word for word in title_words_lemm if m.analyze(word)[0]['analysis'] and \n",
    "               'S' in m.analyze(word)[0]['analysis'][0]['gr']]"
   ]
  },
  {
   "cell_type": "code",
   "execution_count": 27,
   "metadata": {},
   "outputs": [],
   "source": [
    "cnt_text_s = Counter(text_words_s)\n",
    "cnt_title_s = Counter(title_words_s)"
   ]
  },
  {
   "cell_type": "markdown",
   "metadata": {},
   "source": [
    "10 самых частых существительных в тексте отзыва:"
   ]
  },
  {
   "cell_type": "code",
   "execution_count": 28,
   "metadata": {
    "scrolled": true
   },
   "outputs": [
    {
     "name": "stdout",
     "output_type": "stream",
     "text": [
      "('банк', 364704)\n",
      "('карта', 334999)\n",
      "('банка', 303889)\n",
      "('деньги', 179734)\n",
      "('день', 172952)\n",
      "('кредит', 156177)\n",
      "('отделение', 144050)\n",
      "('клиент', 136892)\n",
      "('сотрудник', 134168)\n",
      "('счет', 126894)\n"
     ]
    }
   ],
   "source": [
    "for i in cnt_text_s.most_common(10):\n",
    "    print(i)"
   ]
  },
  {
   "cell_type": "markdown",
   "metadata": {},
   "source": [
    "10 самых частых существительных в заголовке отзыва:"
   ]
  },
  {
   "cell_type": "code",
   "execution_count": 29,
   "metadata": {},
   "outputs": [
    {
     "name": "stdout",
     "output_type": "stream",
     "text": [
      "('банк', 16632)\n",
      "('карта', 16259)\n",
      "('деньги', 11915)\n",
      "('банка', 10365)\n",
      "('кредит', 8107)\n",
      "('клиент', 7411)\n",
      "('банкомат', 5941)\n",
      "('сбербанк', 5776)\n",
      "('сотрудник', 5739)\n",
      "('обслуживание', 5499)\n"
     ]
    }
   ],
   "source": [
    "for i in cnt_title_s.most_common(10):\n",
    "    print(i)"
   ]
  },
  {
   "cell_type": "markdown",
   "metadata": {},
   "source": [
    "5. Постройте кривые Ципфа и Хипса"
   ]
  },
  {
   "cell_type": "code",
   "execution_count": 31,
   "metadata": {},
   "outputs": [
    {
     "data": {
      "image/png": "[encoded data removed]",
      "text/plain": [
       "<Figure size 936x504 with 1 Axes>"
      ]
     },
     "metadata": {
      "needs_background": "light"
     },
     "output_type": "display_data"
    }
   ],
   "source": [
    "freqs = list(cnt_text_words.values())\n",
    "freqs = sorted(freqs, reverse = True)\n",
    "\n",
    "plt.figure(figsize = (13,7))\n",
    "plt.plot(freqs[:300], range(300))\n",
    "plt.title('Кривая Ципфа для слов текста отзыва')\n",
    "plt.xlabel('Ранг слова')\n",
    "plt.ylabel('Частота')\n",
    "plt.show()"
   ]
  },
  {
   "cell_type": "code",
   "execution_count": 64,
   "metadata": {
    "scrolled": false
   },
   "outputs": [
    {
     "name": "stderr",
     "output_type": "stream",
     "text": [
      "100%|██████████| 153499/153499 [59:57<00:00, 42.67it/s]\n"
     ]
    }
   ],
   "source": [
    "cnt = Counter()\n",
    "n_words = []\n",
    "n_tokens = []\n",
    "tokens = []\n",
    "\n",
    "for index, row in tqdm(data.iterrows(), total = len(data)):\n",
    "    tokens = word_tokenize(row['text'])\n",
    "    cnt.update([token for token in tokens if token not in punctuation])\n",
    "    n_words.append(len(cnt))\n",
    "    n_tokens.append(sum(list(cnt.values())))"
   ]
  },
  {
   "cell_type": "code",
   "execution_count": 65,
   "metadata": {},
   "outputs": [
    {
     "data": {
      "image/png": "[encoded data removed]",
      "text/plain": [
       "<Figure size 936x504 with 1 Axes>"
      ]
     },
     "metadata": {
      "needs_background": "light"
     },
     "output_type": "display_data"
    }
   ],
   "source": [
    "plt.figure(figsize = (13,7))\n",
    "plt.plot(n_tokens, n_words)\n",
    "plt.title('Кривая Хипса для слов текста отзыва')\n",
    "plt.xlabel('Размер текста (число токенов)')\n",
    "plt.ylabel('Количество разных слов в тексте (число слов)')\n",
    "plt.show()"
   ]
  },
  {
   "cell_type": "markdown",
   "metadata": {},
   "source": [
    "6. Ответьте на следующие вопросы:\n",
    "    * какое слово встречается чаще, \"сотрудник\" или \"клиент\"?\n",
    "    * сколько раз встречается слова \"мошенничество\" и \"доверие\"?"
   ]
  },
  {
   "cell_type": "code",
   "execution_count": 79,
   "metadata": {},
   "outputs": [
    {
     "name": "stdout",
     "output_type": "stream",
     "text": [
      "В тексте отзыва слово \"сотрудник\" встречается 134168 раз, а \"клиент\" - 136892 раз\n",
      "В заголовке отзыва слово \"сотрудник\" встречается 5739 раз, а \"клиент\" - 7411 раз\n"
     ]
    }
   ],
   "source": [
    "print(f'В тексте отзыва слово \"сотрудник\" встречается {cnt_text_lemm[\"сотрудник\"]} раз, ' \n",
    "      f'а \"клиент\" - {cnt_text_lemm[\"клиент\"]} раз')\n",
    "print(f'В заголовке отзыва слово \"сотрудник\" встречается {cnt_title_lemm[\"сотрудник\"]} раз, '\n",
    "      f'а \"клиент\" - {cnt_title_lemm[\"клиент\"]} раз')"
   ]
  },
  {
   "cell_type": "markdown",
   "metadata": {},
   "source": [
    "Как видно, и в тексте, и в заголовке отзыва чаще встречается слово \"клиент\""
   ]
  },
  {
   "cell_type": "code",
   "execution_count": 80,
   "metadata": {},
   "outputs": [
    {
     "name": "stdout",
     "output_type": "stream",
     "text": [
      "В тексте отзыва слово \"мошенничество\" встречается 3244 раз, а \"доверие\" - 2108 раз\n",
      "В заголовке отзыва слово \"мошенничество\" встречается 598 раз, а \"доверие\" - 147 раз\n"
     ]
    }
   ],
   "source": [
    "print(f'В тексте отзыва слово \"мошенничество\" встречается {cnt_text_lemm[\"мошенничество\"]} раз, ' \n",
    "      f'а \"доверие\" - {cnt_text_lemm[\"доверие\"]} раз')\n",
    "print(f'В заголовке отзыва слово \"мошенничество\" встречается {cnt_title_lemm[\"мошенничество\"]} раз, '\n",
    "      f'а \"доверие\" - {cnt_title_lemm[\"доверие\"]} раз')"
   ]
  },
  {
   "cell_type": "markdown",
   "metadata": {},
   "source": [
    "7. В поле \"rating_grade\" записана оценка отзыва по шкале от 1 до 5. Используйте меру $tf-idf$, для того, чтобы найти ключевые слова и биграмы для положительных отзывов (с оценкой 5) и отрицательных отзывов (с оценкой 1)"
   ]
  },
  {
   "cell_type": "markdown",
   "metadata": {},
   "source": [
    "Для дальнейшей работы обработаем тексты отзывов и будем работать с ними."
   ]
  },
  {
   "cell_type": "code",
   "execution_count": 14,
   "metadata": {},
   "outputs": [],
   "source": [
    "def words_only(text):\n",
    "    return \" \".join(ru_words.findall(text))\n",
    "\n",
    "\n",
    "def lemmatize(text, mystem=m):\n",
    "    try:\n",
    "        return \"\".join(m.lemmatize(text)).strip()  \n",
    "    except:\n",
    "        return \" \"\n",
    "\n",
    "\n",
    "def remove_stopwords(text, mystopwords = mystopwords):\n",
    "    try:\n",
    "        return \" \".join([token for token in text.split() if not token in mystopwords])\n",
    "    except:\n",
    "        return \"\"\n",
    "\n",
    "    \n",
    "def preprocess(text):\n",
    "    return remove_stopwords(lemmatize(words_only(text.lower())))"
   ]
  },
  {
   "cell_type": "code",
   "execution_count": 15,
   "metadata": {
    "scrolled": true
   },
   "outputs": [
    {
     "name": "stdout",
     "output_type": "stream",
     "text": [
      "CPU times: user 2min 59s, sys: 4.82 s, total: 3min 4s\n",
      "Wall time: 29min 18s\n"
     ]
    }
   ],
   "source": [
    "%%time\n",
    "data['text_lemm'] = data['text'].apply(preprocess)"
   ]
  },
  {
   "cell_type": "markdown",
   "metadata": {},
   "source": [
    "Возьмем 3000 положительных и 3000 отрицательных отзывов и посчитаем для них tfidf. Использовать будем обработанный текст отзывов с леммами. "
   ]
  },
  {
   "cell_type": "code",
   "execution_count": 16,
   "metadata": {},
   "outputs": [],
   "source": [
    "N = 3000\n",
    "\n",
    "data_rating = data[data['rating_grade'] == 1].sample(n=N).append(data[data['rating_grade'] == 5].sample(n=N))\n",
    "data_rating = data_rating.reset_index()"
   ]
  },
  {
   "cell_type": "code",
   "execution_count": 17,
   "metadata": {},
   "outputs": [],
   "source": [
    "mask_for_1 = (data_rating['rating_grade'] == 1).tolist()\n",
    "mask_for_5 = (data_rating['rating_grade'] == 5).tolist()"
   ]
  },
  {
   "cell_type": "code",
   "execution_count": 18,
   "metadata": {},
   "outputs": [],
   "source": [
    "tfidf = TfidfVectorizer(analyzer='word', ngram_range=(1,2), min_df = 0)\n",
    "tfidf_matrix = tfidf.fit_transform(data_rating['text_lemm'])\n",
    "feature_names = tfidf.get_feature_names() \n",
    "dense = tfidf_matrix.todense()"
   ]
  },
  {
   "cell_type": "code",
   "execution_count": 19,
   "metadata": {},
   "outputs": [],
   "source": [
    "text_rating_1 = dense[mask_for_1].tolist()[0]\n",
    "text_rating_5 = dense[mask_for_5].tolist()[0]"
   ]
  },
  {
   "cell_type": "code",
   "execution_count": 20,
   "metadata": {},
   "outputs": [],
   "source": [
    "def get_tfidf_rankings_df(text_rating):\n",
    "    phrase_scores = [pair for pair in zip(range(0, len(text_rating)), text_rating) if pair[1] > 0]\n",
    "    sorted_phrase_scores = sorted(phrase_scores, key=lambda t: t[1] * -1)\n",
    "    \n",
    "    tfidf_ranking = []\n",
    "    for phrase, score in [(feature_names[word_id], score) for (word_id, score) in sorted_phrase_scores][:40]:\n",
    "        tfidf_ranking.append(phrase)\n",
    "    \n",
    "    rankings = pd.DataFrame({'tf-idf': tfidf_ranking})\n",
    "    return rankings   "
   ]
  },
  {
   "cell_type": "markdown",
   "metadata": {},
   "source": [
    "**Топ-10 ключевых слов и биграмм для отрицательных отзывов:**"
   ]
  },
  {
   "cell_type": "code",
   "execution_count": 23,
   "metadata": {},
   "outputs": [
    {
     "data": {
      "text/html": [
       "<div>\n",
       "<style scoped>\n",
       "    .dataframe tbody tr th:only-of-type {\n",
       "        vertical-align: middle;\n",
       "    }\n",
       "\n",
       "    .dataframe tbody tr th {\n",
       "        vertical-align: top;\n",
       "    }\n",
       "\n",
       "    .dataframe thead th {\n",
       "        text-align: right;\n",
       "    }\n",
       "</style>\n",
       "<table border=\"1\" class=\"dataframe\">\n",
       "  <thead>\n",
       "    <tr style=\"text-align: right;\">\n",
       "      <th></th>\n",
       "      <th>tf-idf</th>\n",
       "    </tr>\n",
       "  </thead>\n",
       "  <tbody>\n",
       "    <tr>\n",
       "      <th>0</th>\n",
       "      <td>аппарат</td>\n",
       "    </tr>\n",
       "    <tr>\n",
       "      <th>1</th>\n",
       "      <td>пополнять карта</td>\n",
       "    </tr>\n",
       "    <tr>\n",
       "      <th>2</th>\n",
       "      <td>аппарат взять</td>\n",
       "    </tr>\n",
       "    <tr>\n",
       "      <th>3</th>\n",
       "      <td>аппарат возникать</td>\n",
       "    </tr>\n",
       "    <tr>\n",
       "      <th>4</th>\n",
       "      <td>аппарат некорректный</td>\n",
       "    </tr>\n",
       "    <tr>\n",
       "      <th>5</th>\n",
       "      <td>банкомат отражаться</td>\n",
       "    </tr>\n",
       "    <tr>\n",
       "      <th>6</th>\n",
       "      <td>билет забронировать</td>\n",
       "    </tr>\n",
       "    <tr>\n",
       "      <th>7</th>\n",
       "      <td>вносить поэтому</td>\n",
       "    </tr>\n",
       "    <tr>\n",
       "      <th>8</th>\n",
       "      <td>возможный день</td>\n",
       "    </tr>\n",
       "    <tr>\n",
       "      <th>9</th>\n",
       "      <td>деньги возможный</td>\n",
       "    </tr>\n",
       "  </tbody>\n",
       "</table>\n",
       "</div>"
      ],
      "text/plain": [
       "                 tf-idf\n",
       "0               аппарат\n",
       "1       пополнять карта\n",
       "2         аппарат взять\n",
       "3     аппарат возникать\n",
       "4  аппарат некорректный\n",
       "5   банкомат отражаться\n",
       "6   билет забронировать\n",
       "7       вносить поэтому\n",
       "8        возможный день\n",
       "9      деньги возможный"
      ]
     },
     "execution_count": 23,
     "metadata": {},
     "output_type": "execute_result"
    }
   ],
   "source": [
    "rankings_1 = get_tfidf_rankings_df(text_rating_1)\n",
    "rankings_1.head(10)"
   ]
  },
  {
   "cell_type": "markdown",
   "metadata": {},
   "source": [
    "**Топ-10 ключевых слов и биграмм для положительных отзывов:**"
   ]
  },
  {
   "cell_type": "code",
   "execution_count": 24,
   "metadata": {},
   "outputs": [
    {
     "data": {
      "text/html": [
       "<div>\n",
       "<style scoped>\n",
       "    .dataframe tbody tr th:only-of-type {\n",
       "        vertical-align: middle;\n",
       "    }\n",
       "\n",
       "    .dataframe tbody tr th {\n",
       "        vertical-align: top;\n",
       "    }\n",
       "\n",
       "    .dataframe thead th {\n",
       "        text-align: right;\n",
       "    }\n",
       "</style>\n",
       "<table border=\"1\" class=\"dataframe\">\n",
       "  <thead>\n",
       "    <tr style=\"text-align: right;\">\n",
       "      <th></th>\n",
       "      <th>tf-idf</th>\n",
       "    </tr>\n",
       "  </thead>\n",
       "  <tbody>\n",
       "    <tr>\n",
       "      <th>0</th>\n",
       "      <td>нужно оплачивать</td>\n",
       "    </tr>\n",
       "    <tr>\n",
       "      <th>1</th>\n",
       "      <td>вип</td>\n",
       "    </tr>\n",
       "    <tr>\n",
       "      <th>2</th>\n",
       "      <td>перевод</td>\n",
       "    </tr>\n",
       "    <tr>\n",
       "      <th>3</th>\n",
       "      <td>первый</td>\n",
       "    </tr>\n",
       "    <tr>\n",
       "      <th>4</th>\n",
       "      <td>оплачивать</td>\n",
       "    </tr>\n",
       "    <tr>\n",
       "      <th>5</th>\n",
       "      <td>сразу</td>\n",
       "    </tr>\n",
       "    <tr>\n",
       "      <th>6</th>\n",
       "      <td>абсолютно позитивный</td>\n",
       "    </tr>\n",
       "    <tr>\n",
       "      <th>7</th>\n",
       "      <td>ан девушка</td>\n",
       "    </tr>\n",
       "    <tr>\n",
       "      <th>8</th>\n",
       "      <td>арбат садовый</td>\n",
       "    </tr>\n",
       "    <tr>\n",
       "      <th>9</th>\n",
       "      <td>белый каменный</td>\n",
       "    </tr>\n",
       "  </tbody>\n",
       "</table>\n",
       "</div>"
      ],
      "text/plain": [
       "                 tf-idf\n",
       "0      нужно оплачивать\n",
       "1                   вип\n",
       "2               перевод\n",
       "3                первый\n",
       "4            оплачивать\n",
       "5                 сразу\n",
       "6  абсолютно позитивный\n",
       "7            ан девушка\n",
       "8         арбат садовый\n",
       "9        белый каменный"
      ]
     },
     "execution_count": 24,
     "metadata": {},
     "output_type": "execute_result"
    }
   ],
   "source": [
    "rankings_5 = get_tfidf_rankings_df(text_rating_5)\n",
    "rankings_5.head(10)"
   ]
  },
  {
   "cell_type": "markdown",
   "metadata": {},
   "source": [
    "## Часть 2. Тематическое моделирование [20/100]\n",
    "\n",
    "1. Постройте несколько тематических моделей коллекции документов с разным числом тем. Приведите примеры понятных (интерпретируемых) тем.\n",
    "2. Найдите темы, в которых упомянуты конкретные банки (Сбербанк, ВТБ, другой банк). Можете ли вы их прокомментировать / объяснить?\n",
    "\n",
    "Эта часть задания может быть сделана с использованием gensim. "
   ]
  },
  {
   "cell_type": "code",
   "execution_count": 59,
   "metadata": {},
   "outputs": [],
   "source": [
    "texts = [text.split() for text in data['text_lemm']]\n",
    "dictionary = Dictionary(texts)\n",
    "corpus = [dictionary.doc2bow(text) for text in texts]"
   ]
  },
  {
   "cell_type": "code",
   "execution_count": 60,
   "metadata": {},
   "outputs": [],
   "source": [
    "tfidf = TfidfModel(corpus)\n",
    "corpus_tfidf = tfidf[corpus]"
   ]
  },
  {
   "cell_type": "markdown",
   "metadata": {},
   "source": [
    "**Тематическая модель с 30 темами:**"
   ]
  },
  {
   "cell_type": "code",
   "execution_count": 92,
   "metadata": {},
   "outputs": [
    {
     "name": "stdout",
     "output_type": "stream",
     "text": [
      "CPU times: user 2min 16s, sys: 6.45 s, total: 2min 23s\n",
      "Wall time: 1min 35s\n"
     ]
    }
   ],
   "source": [
    "%%time\n",
    "lsi = lsimodel.LsiModel(corpus=corpus_tfidf, id2word=dictionary, num_topics=30)"
   ]
  },
  {
   "cell_type": "code",
   "execution_count": 93,
   "metadata": {
    "scrolled": true
   },
   "outputs": [
    {
     "data": {
      "text/plain": [
       "[(0,\n",
       "  '0.196*\"карта\" + 0.135*\"кредит\" + 0.116*\"деньги\" + 0.110*\"заявление\" + 0.108*\"счет\" + 0.102*\"банкомат\" + 0.101*\"вклад\" + 0.101*\"отделение\" + 0.097*\"сумма\" + 0.097*\"сбербанк\"'),\n",
       " (1,\n",
       "  '-0.417*\"вклад\" + 0.347*\"кредит\" + -0.193*\"банкомат\" + 0.158*\"страховка\" + -0.155*\"карта\" + 0.147*\"платеж\" + 0.147*\"задолженность\" + 0.137*\"погашение\" + -0.135*\"открывать\" + 0.115*\"звонок\"'),\n",
       " (2,\n",
       "  '-0.470*\"вклад\" + 0.293*\"банкомат\" + 0.228*\"карта\" + 0.190*\"сбербанк\" + -0.156*\"кредит\" + 0.129*\"заявление\" + 0.128*\"операция\" + 0.127*\"деньги\" + -0.126*\"договор\" + -0.122*\"открывать\"'),\n",
       " (3,\n",
       "  '-0.260*\"вклад\" + -0.217*\"сумма\" + 0.195*\"номер\" + 0.187*\"заявка\" + -0.183*\"руб\" + -0.164*\"платеж\" + -0.160*\"погашение\" + -0.150*\"договор\" + 0.146*\"звонок\" + -0.145*\"процент\"'),\n",
       " (4,\n",
       "  '0.321*\"вклад\" + 0.273*\"номер\" + -0.254*\"карта\" + -0.215*\"страховка\" + 0.195*\"звонок\" + -0.192*\"заявка\" + 0.141*\"телефон\" + -0.141*\"кредит\" + 0.141*\"ваш\" + -0.123*\"лимит\"')]"
      ]
     },
     "execution_count": 93,
     "metadata": {},
     "output_type": "execute_result"
    }
   ],
   "source": [
    "lsi.show_topics(5)"
   ]
  },
  {
   "cell_type": "markdown",
   "metadata": {},
   "source": [
    "1. Первая тема (под номером 0 выше) содержит в себе все типичные слова, какие могут быть в отзыве про банк: \"карта, кредит, деньги, заявление, счет, банкомат, вклад, отделение, сумма, сбербанк\". Тут же присутствует название банка Сбербанк, так как больше всего отзывов именно про этот банк. \n",
    "2. Вторая тема (под номером 1 выше) также содержит в себе типичные слова про банк, но тут речь больше идет про внесение каких-то платежей, погашение задолжностей исходя из слов \"страховка, платеж, задолженность, погашение\". Сюда же могут относится, например, отзывы про открытие карт (слова \"открывать, карта\") и жалобы на очереди (слово \"очередь\"). \n",
    "3. Последняя тема (под номером 4 выше) скорее всего содержит отзывы, касающиеся звонков по телефону, так как в ней есть слова \"номер, звонок, телефон\" и плюс слова, касающиеся банковских дел - \"вклад, карта, страховка, кредит, лимит\". <br>"
   ]
  },
  {
   "cell_type": "markdown",
   "metadata": {},
   "source": [
    "Во многих темах встречается название банка \"Сбербанк\", так как отзывов в данном датасете больше всего именно про него. Пример темы с банком \"Сбербанк\":"
   ]
  },
  {
   "cell_type": "code",
   "execution_count": 94,
   "metadata": {
    "scrolled": true
   },
   "outputs": [
    {
     "data": {
      "text/plain": [
       "[('карта', 0.19617875269654156),\n",
       " ('кредит', 0.13471726473733536),\n",
       " ('деньги', 0.11620271052192019),\n",
       " ('заявление', 0.10991615808041313),\n",
       " ('счет', 0.10782441114669254),\n",
       " ('банкомат', 0.10221833740956097),\n",
       " ('вклад', 0.1014884193351829),\n",
       " ('отделение', 0.10084380298783638),\n",
       " ('сумма', 0.09699525717604734),\n",
       " ('сбербанк', 0.09679029578192633)]"
      ]
     },
     "execution_count": 94,
     "metadata": {},
     "output_type": "execute_result"
    }
   ],
   "source": [
    "lsi.show_topic(0)"
   ]
  },
  {
   "cell_type": "markdown",
   "metadata": {},
   "source": [
    "Здесь может быть описана практически любая проблема, так как присутствуют самые типичные банковские слова."
   ]
  },
  {
   "cell_type": "markdown",
   "metadata": {},
   "source": [
    "Пример темы с банком \"Альфа-Банк\" (второй по популярности банк в данном датасете): "
   ]
  },
  {
   "cell_type": "code",
   "execution_count": 103,
   "metadata": {},
   "outputs": [
    {
     "data": {
      "text/plain": [
       "[('альфа', -0.3926218857601513),\n",
       " ('претензия', -0.24386397153980638),\n",
       " ('кошелек', 0.20999777774423584),\n",
       " ('услуга', -0.20370614769013626),\n",
       " ('терминал', 0.1983143064328286),\n",
       " ('погашение', -0.18807550365820128),\n",
       " ('смс', -0.17100231279819111),\n",
       " ('киви', 0.16801417205140975),\n",
       " ('досрочный', -0.1673480510710219),\n",
       " ('подключать', -0.1631099403447694)]"
      ]
     },
     "execution_count": 103,
     "metadata": {},
     "output_type": "execute_result"
    }
   ],
   "source": [
    "lsi.show_topic(13)"
   ]
  },
  {
   "cell_type": "markdown",
   "metadata": {},
   "source": [
    "Здесь может идти речь про электронные кошельки и подключение каких-то услуг (\"услуга, кошелек, киви, подключать, смс\"). Скорее всего тема содержит отрицательные отзывы, так как есть слово \"претензия\". "
   ]
  },
  {
   "cell_type": "markdown",
   "metadata": {},
   "source": [
    "Еще один отзыв с банком \"Альфа-Банк\":"
   ]
  },
  {
   "cell_type": "code",
   "execution_count": 120,
   "metadata": {
    "scrolled": false
   },
   "outputs": [
    {
     "data": {
      "text/plain": [
       "[('руб', 0.28126936887997245),\n",
       " ('альфа', -0.24950055940238802),\n",
       " ('комиссия', 0.24451551949233713),\n",
       " ('заявка', 0.21187767944140345),\n",
       " ('очередь', 0.18433159285410539),\n",
       " ('касса', 0.15280422033602056),\n",
       " ('кошелек', -0.14874977725763103),\n",
       " ('деньги', -0.14484685402800215),\n",
       " ('терминал', 0.11969710602369368),\n",
       " ('кассир', 0.11875483826141985)]"
      ]
     },
     "execution_count": 120,
     "metadata": {},
     "output_type": "execute_result"
    }
   ],
   "source": [
    "lsi.show_topic(14)"
   ]
  },
  {
   "cell_type": "markdown",
   "metadata": {},
   "source": [
    "Здесь есть сочетание слов \"касса, кассир, очередь, деньги, терминал, комиссия, руб\". Могут быть отзывы про работу с кассами."
   ]
  },
  {
   "cell_type": "markdown",
   "metadata": {},
   "source": [
    "**Тематическая модель с 10 темами:**"
   ]
  },
  {
   "cell_type": "code",
   "execution_count": 63,
   "metadata": {},
   "outputs": [
    {
     "name": "stdout",
     "output_type": "stream",
     "text": [
      "CPU times: user 2min 13s, sys: 7.71 s, total: 2min 20s\n",
      "Wall time: 1min 35s\n"
     ]
    }
   ],
   "source": [
    "%%time\n",
    "lsi = lsimodel.LsiModel(corpus=corpus_tfidf, id2word=dictionary, num_topics=10)"
   ]
  },
  {
   "cell_type": "code",
   "execution_count": 64,
   "metadata": {
    "scrolled": true
   },
   "outputs": [
    {
     "data": {
      "text/plain": [
       "[(0,\n",
       "  '0.196*\"карта\" + 0.135*\"кредит\" + 0.116*\"деньги\" + 0.110*\"заявление\" + 0.108*\"счет\" + 0.102*\"вклад\" + 0.102*\"банкомат\" + 0.101*\"отделение\" + 0.097*\"сбербанк\" + 0.097*\"сумма\"'),\n",
       " (1,\n",
       "  '-0.464*\"вклад\" + 0.334*\"кредит\" + 0.157*\"платеж\" + -0.156*\"банкомат\" + 0.150*\"страховка\" + 0.149*\"задолженность\" + -0.147*\"открывать\" + 0.136*\"погашение\" + -0.129*\"карта\" + -0.123*\"очередь\"'),\n",
       " (2,\n",
       "  '-0.424*\"вклад\" + 0.289*\"банкомат\" + 0.242*\"карта\" + 0.211*\"сбербанк\" + -0.195*\"кредит\" + -0.139*\"договор\" + 0.138*\"операция\" + 0.132*\"деньги\" + 0.125*\"заявление\" + 0.124*\"средство\"'),\n",
       " (3,\n",
       "  '-0.272*\"вклад\" + -0.214*\"сумма\" + 0.207*\"заявка\" + 0.186*\"номер\" + -0.182*\"руб\" + -0.161*\"платеж\" + -0.153*\"погашение\" + -0.150*\"договор\" + -0.146*\"рубль\" + -0.145*\"процент\"'),\n",
       " (4,\n",
       "  '-0.448*\"карта\" + 0.309*\"банкомат\" + -0.197*\"лимит\" + -0.187*\"кредитный\" + 0.151*\"номер\" + 0.131*\"деньги\" + 0.130*\"терминал\" + 0.123*\"купюра\" + 0.116*\"звонок\" + -0.115*\"комиссия\"')]"
      ]
     },
     "execution_count": 64,
     "metadata": {},
     "output_type": "execute_result"
    }
   ],
   "source": [
    "lsi.show_topics(5)"
   ]
  },
  {
   "cell_type": "markdown",
   "metadata": {},
   "source": [
    "**Тематическая модель с 50 темами:**"
   ]
  },
  {
   "cell_type": "code",
   "execution_count": 65,
   "metadata": {},
   "outputs": [
    {
     "name": "stdout",
     "output_type": "stream",
     "text": [
      "CPU times: user 2min 36s, sys: 7.41 s, total: 2min 44s\n",
      "Wall time: 1min 41s\n"
     ]
    }
   ],
   "source": [
    "%%time\n",
    "lsi = lsimodel.LsiModel(corpus=corpus_tfidf, id2word=dictionary, num_topics=50)"
   ]
  },
  {
   "cell_type": "code",
   "execution_count": 66,
   "metadata": {
    "scrolled": false
   },
   "outputs": [
    {
     "data": {
      "text/plain": [
       "[(0,\n",
       "  '0.196*\"карта\" + 0.135*\"кредит\" + 0.116*\"деньги\" + 0.110*\"заявление\" + 0.108*\"счет\" + 0.102*\"банкомат\" + 0.102*\"вклад\" + 0.101*\"отделение\" + 0.097*\"сумма\" + 0.097*\"сбербанк\"'),\n",
       " (1,\n",
       "  '-0.410*\"вклад\" + 0.350*\"кредит\" + -0.197*\"банкомат\" + 0.159*\"страховка\" + -0.157*\"карта\" + 0.146*\"платеж\" + 0.146*\"задолженность\" + 0.136*\"погашение\" + -0.134*\"открывать\" + 0.115*\"звонок\"'),\n",
       " (2,\n",
       "  '-0.475*\"вклад\" + 0.290*\"банкомат\" + 0.225*\"карта\" + 0.189*\"сбербанк\" + -0.152*\"кредит\" + 0.129*\"заявление\" + 0.127*\"операция\" + 0.125*\"деньги\" + -0.125*\"договор\" + -0.124*\"открывать\"'),\n",
       " (3,\n",
       "  '-0.253*\"вклад\" + -0.217*\"сумма\" + 0.201*\"номер\" + 0.187*\"заявка\" + -0.183*\"руб\" + -0.164*\"платеж\" + -0.160*\"погашение\" + -0.150*\"договор\" + 0.150*\"звонок\" + -0.145*\"процент\"'),\n",
       " (4,\n",
       "  '0.326*\"вклад\" + 0.273*\"номер\" + -0.246*\"карта\" + -0.215*\"страховка\" + -0.194*\"заявка\" + 0.192*\"звонок\" + 0.144*\"ваш\" + 0.141*\"телефон\" + -0.141*\"кредит\" + -0.121*\"лимит\"')]"
      ]
     },
     "execution_count": 66,
     "metadata": {},
     "output_type": "execute_result"
    }
   ],
   "source": [
    "lsi.show_topics(5)"
   ]
  },
  {
   "cell_type": "markdown",
   "metadata": {},
   "source": [
    "В целом, все тематические модели выше независимо от количества тем выделяют примерно одинаковые слова и довольно похоже их группируют (по крайней мере исходя из первых 5-топ тем)."
   ]
  },
  {
   "cell_type": "markdown",
   "metadata": {},
   "source": [
    "## Часть 3. Классификация текстов [40/100]\n",
    "\n",
    "Сформулируем для простоты задачу бинарной классификации: будем классифицировать на два класса, то есть, различать резко отрицательные отзывы (с оценкой 1) и положительные отзывы (с оценкой 5). \n",
    "\n",
    "1.  Составьте обучающее и тестовое множество: выберите из всего набора данных N1 отзывов с оценкой 1 и N2 отзывов с оценкой 5 (значение N1 и N2 – на ваше усмотрение). Используйте ```sklearn.model_selection.train_test_split``` для разделения множества отобранных документов на обучающее и тестовое. \n",
    "2. Используйте любой известный вам алгоритм классификации текстов для решения задачи и получите baseline. Сравните разные варианты векторизации текста: использование только униграм, пар или троек слов или с использованием символьных $n$-грам. \n",
    "3. Сравните, как изменяется качество решения задачи при использовании скрытых тем в качестве признаков:\n",
    "    * 1-ый вариант: $tf-idf$ преобразование (```sklearn.feature_extraction.text.TfidfTransformer```) и сингулярное разложение (оно же – латентый семантический анализ) (```sklearn.decomposition.TruncatedSVD```), \n",
    "    * 2-ой вариант: тематические модели LDA (```sklearn.decomposition.LatentDirichletAllocation```). \n",
    "\n",
    "Используйте accuracy и F-measure для оценки качества классификации. \n",
    "\n",
    "Ниже написан примерный Pipeline для классификации текстов. \n",
    "\n",
    "Эта часть задания может быть сделана с использованием sklearn. "
   ]
  },
  {
   "cell_type": "markdown",
   "metadata": {},
   "source": [
    "1. Составьте обучающее и тестовое множество: выберите из всего набора данных N1 отзывов с оценкой 1 и N2 отзывов с оценкой 5 (значение N1 и N2 – на ваше усмотрение). Используйте sklearn.model_selection.train_test_split для разделения множества отобранных документов на обучающее и тестовое."
   ]
  },
  {
   "cell_type": "code",
   "execution_count": 25,
   "metadata": {},
   "outputs": [
    {
     "data": {
      "text/plain": [
       "(153499, 11)"
      ]
     },
     "execution_count": 25,
     "metadata": {},
     "output_type": "execute_result"
    }
   ],
   "source": [
    "data.shape"
   ]
  },
  {
   "cell_type": "code",
   "execution_count": 26,
   "metadata": {},
   "outputs": [],
   "source": [
    "N1 = 7000\n",
    "N2 = 7000\n",
    "\n",
    "temp = data[data['rating_grade'] == 1].sample(n=N1).append(data[data['rating_grade'] == 5].sample(n=N2))\n",
    "temp_X = temp['text_lemm']\n",
    "temp_Y = temp['rating_grade']"
   ]
  },
  {
   "cell_type": "code",
   "execution_count": 27,
   "metadata": {},
   "outputs": [],
   "source": [
    "X_train, X_test, y_train, y_test = train_test_split(temp_X, temp_Y, test_size=0.3, random_state=15, shuffle=True)"
   ]
  },
  {
   "cell_type": "code",
   "execution_count": 28,
   "metadata": {
    "scrolled": true
   },
   "outputs": [
    {
     "data": {
      "text/plain": [
       "((9800,), (4200,))"
      ]
     },
     "execution_count": 28,
     "metadata": {},
     "output_type": "execute_result"
    }
   ],
   "source": [
    "X_train.shape, X_test.shape"
   ]
  },
  {
   "cell_type": "markdown",
   "metadata": {},
   "source": [
    "2. Используйте любой известный вам алгоритм классификации текстов для решения задачи и получите baseline. Сравните разные варианты векторизации текста: использование только униграм, пар или троек слов или с использованием символьных $n$-грам. "
   ]
  },
  {
   "cell_type": "markdown",
   "metadata": {},
   "source": [
    "**Использование символьных n-грамм**"
   ]
  },
  {
   "cell_type": "code",
   "execution_count": 31,
   "metadata": {},
   "outputs": [],
   "source": [
    "clf = Pipeline([\n",
    " ('vect', CountVectorizer(analyzer = 'char', ngram_range={4,6})),\n",
    " ('clf', RandomForestClassifier(random_state=16)),\n",
    "])\n",
    "\n",
    "clf = clf.fit(X_train, y_train)"
   ]
  },
  {
   "cell_type": "code",
   "execution_count": 32,
   "metadata": {},
   "outputs": [],
   "source": [
    "train_accuracy_score = np.mean(cross_val_score(clf, X_train, y_train, cv=5, scoring='accuracy', n_jobs=-1))\n",
    "test_accuracy_score = np.mean(cross_val_score(clf, X_test, y_test, cv=5, scoring='accuracy', n_jobs=-1))"
   ]
  },
  {
   "cell_type": "code",
   "execution_count": 33,
   "metadata": {},
   "outputs": [],
   "source": [
    "train_f1_score = np.mean(cross_val_score(clf, X_train, y_train, cv=5, scoring='f1', n_jobs=-1))\n",
    "test_f1_score = np.mean(cross_val_score(clf, X_test, y_test, cv=5, scoring='f1', n_jobs=-1))"
   ]
  },
  {
   "cell_type": "code",
   "execution_count": 34,
   "metadata": {},
   "outputs": [
    {
     "name": "stdout",
     "output_type": "stream",
     "text": [
      "Train accuracy: 0.916, Train F-measure: 0.917\n",
      "Test accuracy: 0.903, Test F-measure: 0.904\n"
     ]
    }
   ],
   "source": [
    "print(f'Train accuracy: {train_accuracy_score:.3f}, Train F-measure: {train_f1_score:.3f}\\n'\n",
    "      f'Test accuracy: {test_accuracy_score:.3f}, Test F-measure: {test_f1_score:.3f}')"
   ]
  },
  {
   "cell_type": "markdown",
   "metadata": {},
   "source": [
    "**Использование униграмм**"
   ]
  },
  {
   "cell_type": "code",
   "execution_count": 35,
   "metadata": {},
   "outputs": [],
   "source": [
    "clf = Pipeline([\n",
    " ('vect', CountVectorizer(analyzer = 'word', ngram_range=(1,1))),\n",
    " ('clf', RandomForestClassifier(random_state=16)),\n",
    "])\n",
    "\n",
    "clf = clf.fit(X_train, y_train)"
   ]
  },
  {
   "cell_type": "code",
   "execution_count": 36,
   "metadata": {},
   "outputs": [],
   "source": [
    "train_accuracy_score = np.mean(cross_val_score(clf, X_train, y_train, cv=5, scoring='accuracy', n_jobs=-1))\n",
    "test_accuracy_score = np.mean(cross_val_score(clf, X_test, y_test, cv=5, scoring='accuracy', n_jobs=-1))"
   ]
  },
  {
   "cell_type": "code",
   "execution_count": 37,
   "metadata": {},
   "outputs": [],
   "source": [
    "train_f1_score = np.mean(cross_val_score(clf, X_train, y_train, cv=5, scoring='f1', n_jobs=-1))\n",
    "test_f1_score = np.mean(cross_val_score(clf, X_test, y_test, cv=5, scoring='f1', n_jobs=-1))"
   ]
  },
  {
   "cell_type": "code",
   "execution_count": 38,
   "metadata": {},
   "outputs": [
    {
     "name": "stdout",
     "output_type": "stream",
     "text": [
      "Train accuracy: 0.921, Train F-measure: 0.922\n",
      "Test accuracy: 0.911, Test F-measure: 0.912\n"
     ]
    }
   ],
   "source": [
    "print(f'Train accuracy: {train_accuracy_score:.3f}, Train F-measure: {train_f1_score:.3f}\\n'\n",
    "      f'Test accuracy: {test_accuracy_score:.3f}, Test F-measure: {test_f1_score:.3f}')"
   ]
  },
  {
   "cell_type": "markdown",
   "metadata": {},
   "source": [
    "**Использование биграмм**"
   ]
  },
  {
   "cell_type": "code",
   "execution_count": 39,
   "metadata": {},
   "outputs": [],
   "source": [
    "clf = Pipeline([\n",
    " ('vect', CountVectorizer(analyzer = 'word', ngram_range=(2,2))),\n",
    " ('clf', RandomForestClassifier(random_state=16)),\n",
    "])\n",
    "\n",
    "clf = clf.fit(X_train, y_train)"
   ]
  },
  {
   "cell_type": "code",
   "execution_count": 40,
   "metadata": {},
   "outputs": [],
   "source": [
    "train_accuracy_score = np.mean(cross_val_score(clf, X_train, y_train, cv=5, scoring='accuracy', n_jobs=-1))\n",
    "test_accuracy_score = np.mean(cross_val_score(clf, X_test, y_test, cv=5, scoring='accuracy', n_jobs=-1))"
   ]
  },
  {
   "cell_type": "code",
   "execution_count": 41,
   "metadata": {},
   "outputs": [],
   "source": [
    "train_f1_score = np.mean(cross_val_score(clf, X_train, y_train, cv=5, scoring='f1', n_jobs=-1))\n",
    "test_f1_score = np.mean(cross_val_score(clf, X_test, y_test, cv=5, scoring='f1', n_jobs=-1))"
   ]
  },
  {
   "cell_type": "code",
   "execution_count": 42,
   "metadata": {},
   "outputs": [
    {
     "name": "stdout",
     "output_type": "stream",
     "text": [
      "Train accuracy: 0.861, Train F-measure: 0.855\n",
      "Test accuracy: 0.843, Test F-measure: 0.832\n"
     ]
    }
   ],
   "source": [
    "print(f'Train accuracy: {train_accuracy_score:.3f}, Train F-measure: {train_f1_score:.3f}\\n'\n",
    "      f'Test accuracy: {test_accuracy_score:.3f}, Test F-measure: {test_f1_score:.3f}')"
   ]
  },
  {
   "cell_type": "markdown",
   "metadata": {},
   "source": [
    "**Использование триграмм**"
   ]
  },
  {
   "cell_type": "code",
   "execution_count": 43,
   "metadata": {},
   "outputs": [],
   "source": [
    "clf = Pipeline([\n",
    " ('vect', CountVectorizer(analyzer = 'word', ngram_range=(3,3))),\n",
    " ('clf', RandomForestClassifier(random_state=16)),\n",
    "])\n",
    "\n",
    "clf = clf.fit(X_train, y_train)"
   ]
  },
  {
   "cell_type": "code",
   "execution_count": 44,
   "metadata": {},
   "outputs": [],
   "source": [
    "train_accuracy_score = np.mean(cross_val_score(clf, X_train, y_train, cv=5, scoring='accuracy', n_jobs=-1))\n",
    "test_accuracy_score = np.mean(cross_val_score(clf, X_test, y_test, cv=5, scoring='accuracy', n_jobs=-1))"
   ]
  },
  {
   "cell_type": "code",
   "execution_count": 45,
   "metadata": {},
   "outputs": [],
   "source": [
    "train_f1_score = np.mean(cross_val_score(clf, X_train, y_train, cv=5, scoring='f1', n_jobs=-1))\n",
    "test_f1_score = np.mean(cross_val_score(clf, X_test, y_test, cv=5, scoring='f1', n_jobs=-1))"
   ]
  },
  {
   "cell_type": "code",
   "execution_count": 46,
   "metadata": {},
   "outputs": [
    {
     "name": "stdout",
     "output_type": "stream",
     "text": [
      "Train accuracy: 0.674, Train F-measure: 0.553\n",
      "Test accuracy: 0.685, Test F-measure: 0.587\n"
     ]
    }
   ],
   "source": [
    "print(f'Train accuracy: {train_accuracy_score:.3f}, Train F-measure: {train_f1_score:.3f}\\n'\n",
    "      f'Test accuracy: {test_accuracy_score:.3f}, Test F-measure: {test_f1_score:.3f}')"
   ]
  },
  {
   "cell_type": "markdown",
   "metadata": {},
   "source": [
    "**Использование униграмм, биграмм и триграмм вместе**"
   ]
  },
  {
   "cell_type": "code",
   "execution_count": 47,
   "metadata": {},
   "outputs": [],
   "source": [
    "clf = Pipeline([\n",
    " ('vect', CountVectorizer(analyzer = 'word', ngram_range=(1,3))),\n",
    " ('clf', RandomForestClassifier(random_state=16)),\n",
    "])\n",
    "\n",
    "clf = clf.fit(X_train, y_train)"
   ]
  },
  {
   "cell_type": "code",
   "execution_count": 48,
   "metadata": {},
   "outputs": [],
   "source": [
    "train_accuracy_score = np.mean(cross_val_score(clf, X_train, y_train, cv=5, scoring='accuracy', n_jobs=-1))\n",
    "test_accuracy_score = np.mean(cross_val_score(clf, X_test, y_test, cv=5, scoring='accuracy', n_jobs=-1))"
   ]
  },
  {
   "cell_type": "code",
   "execution_count": 49,
   "metadata": {},
   "outputs": [],
   "source": [
    "train_f1_score = np.mean(cross_val_score(clf, X_train, y_train, cv=5, scoring='f1', n_jobs=-1))\n",
    "test_f1_score = np.mean(cross_val_score(clf, X_test, y_test, cv=5, scoring='f1', n_jobs=-1))"
   ]
  },
  {
   "cell_type": "code",
   "execution_count": 50,
   "metadata": {
    "scrolled": true
   },
   "outputs": [
    {
     "name": "stdout",
     "output_type": "stream",
     "text": [
      "Train accuracy: 0.906, Train F-measure: 0.908\n",
      "Test accuracy: 0.897, Test F-measure: 0.898\n"
     ]
    }
   ],
   "source": [
    "print(f'Train accuracy: {train_accuracy_score:.3f}, Train F-measure: {train_f1_score:.3f}\\n'\n",
    "      f'Test accuracy: {test_accuracy_score:.3f}, Test F-measure: {test_f1_score:.3f}')"
   ]
  },
  {
   "cell_type": "markdown",
   "metadata": {},
   "source": [
    "Самый лучший результат был достигнут при использовании символьных n-грамм и униграмм."
   ]
  },
  {
   "cell_type": "markdown",
   "metadata": {},
   "source": [
    "3. Сравните, как изменяется качество решения задачи при использовании скрытых тем в качестве признаков:\n",
    "    * 1-ый вариант: $tf-idf$ преобразование (```sklearn.feature_extraction.text.TfidfTransformer```) и сингулярное разложение (оно же – латентый семантический анализ) (```sklearn.decomposition.TruncatedSVD```), \n",
    "    * 2-ой вариант: тематические модели LDA (```sklearn.decomposition.LatentDirichletAllocation```). "
   ]
  },
  {
   "cell_type": "markdown",
   "metadata": {},
   "source": [
    "**Tfidf + TruncatedSVD (LSI)**"
   ]
  },
  {
   "cell_type": "code",
   "execution_count": 51,
   "metadata": {},
   "outputs": [
    {
     "data": {
      "text/plain": [
       "Pipeline(memory=None,\n",
       "         steps=[('vect',\n",
       "                 CountVectorizer(analyzer='word', binary=False,\n",
       "                                 decode_error='strict',\n",
       "                                 dtype=<class 'numpy.int64'>, encoding='utf-8',\n",
       "                                 input='content', lowercase=True, max_df=1.0,\n",
       "                                 max_features=None, min_df=1,\n",
       "                                 ngram_range=(1, 1), preprocessor=None,\n",
       "                                 stop_words=None, strip_accents=None,\n",
       "                                 token_pattern='(?u)\\\\b\\\\w\\\\w+\\\\b',\n",
       "                                 tokenizer=None, vocabulary=Non...\n",
       "                 RandomForestClassifier(bootstrap=True, ccp_alpha=0.0,\n",
       "                                        class_weight=None, criterion='gini',\n",
       "                                        max_depth=None, max_features='auto',\n",
       "                                        max_leaf_nodes=None, max_samples=None,\n",
       "                                        min_impurity_decrease=0.0,\n",
       "                                        min_impurity_split=None,\n",
       "                                        min_samples_leaf=1, min_samples_split=2,\n",
       "                                        min_weight_fraction_leaf=0.0,\n",
       "                                        n_estimators=100, n_jobs=None,\n",
       "                                        oob_score=False, random_state=16,\n",
       "                                        verbose=0, warm_start=False))],\n",
       "         verbose=False)"
      ]
     },
     "execution_count": 51,
     "metadata": {},
     "output_type": "execute_result"
    }
   ],
   "source": [
    "clf = Pipeline([ \n",
    "    ('vect', CountVectorizer(analyzer = 'word', ngram_range=(1,1))), \n",
    "    ('tfidf', TfidfTransformer()), \n",
    "    ('tm', TruncatedSVD(random_state = 11, n_components = 30)), \n",
    "    ('clf', RandomForestClassifier(random_state = 16))\n",
    "])\n",
    "\n",
    "clf.fit(X_train, y_train)"
   ]
  },
  {
   "cell_type": "code",
   "execution_count": 52,
   "metadata": {},
   "outputs": [],
   "source": [
    "train_accuracy_score = np.mean(cross_val_score(clf, X_train, y_train, cv=5, scoring='accuracy', n_jobs=-1))\n",
    "test_accuracy_score = np.mean(cross_val_score(clf, X_test, y_test, cv=5, scoring='accuracy', n_jobs=-1))"
   ]
  },
  {
   "cell_type": "code",
   "execution_count": 53,
   "metadata": {},
   "outputs": [],
   "source": [
    "train_f1_score = np.mean(cross_val_score(clf, X_train, y_train, cv=5, scoring='f1', n_jobs=-1))\n",
    "test_f1_score = np.mean(cross_val_score(clf, X_test, y_test, cv=5, scoring='f1', n_jobs=-1))"
   ]
  },
  {
   "cell_type": "code",
   "execution_count": 54,
   "metadata": {},
   "outputs": [
    {
     "name": "stdout",
     "output_type": "stream",
     "text": [
      "Train accuracy: 0.884, Train F-measure: 0.887\n",
      "Test accuracy: 0.866, Test F-measure: 0.867\n"
     ]
    }
   ],
   "source": [
    "print(f'Train accuracy: {train_accuracy_score:.3f}, Train F-measure: {train_f1_score:.3f}\\n'\n",
    "      f'Test accuracy: {test_accuracy_score:.3f}, Test F-measure: {test_f1_score:.3f}')"
   ]
  },
  {
   "cell_type": "markdown",
   "metadata": {},
   "source": [
    "**LDA**"
   ]
  },
  {
   "cell_type": "code",
   "execution_count": 55,
   "metadata": {},
   "outputs": [
    {
     "data": {
      "text/plain": [
       "Pipeline(memory=None,\n",
       "         steps=[('vect',\n",
       "                 CountVectorizer(analyzer='word', binary=False,\n",
       "                                 decode_error='strict',\n",
       "                                 dtype=<class 'numpy.int64'>, encoding='utf-8',\n",
       "                                 input='content', lowercase=True, max_df=1.0,\n",
       "                                 max_features=None, min_df=1,\n",
       "                                 ngram_range=(1, 1), preprocessor=None,\n",
       "                                 stop_words=None, strip_accents=None,\n",
       "                                 token_pattern='(?u)\\\\b\\\\w\\\\w+\\\\b',\n",
       "                                 tokenizer=None, vocabulary=Non...\n",
       "                 RandomForestClassifier(bootstrap=True, ccp_alpha=0.0,\n",
       "                                        class_weight=None, criterion='gini',\n",
       "                                        max_depth=None, max_features='auto',\n",
       "                                        max_leaf_nodes=None, max_samples=None,\n",
       "                                        min_impurity_decrease=0.0,\n",
       "                                        min_impurity_split=None,\n",
       "                                        min_samples_leaf=1, min_samples_split=2,\n",
       "                                        min_weight_fraction_leaf=0.0,\n",
       "                                        n_estimators=100, n_jobs=None,\n",
       "                                        oob_score=False, random_state=16,\n",
       "                                        verbose=0, warm_start=False))],\n",
       "         verbose=False)"
      ]
     },
     "execution_count": 55,
     "metadata": {},
     "output_type": "execute_result"
    }
   ],
   "source": [
    "clf = Pipeline([ \n",
    "    ('vect', CountVectorizer(analyzer = 'word', ngram_range=(1,1))), \n",
    "    ('lda', LatentDirichletAllocation(random_state = 7, n_components = 150)),\n",
    "    ('clf', RandomForestClassifier(random_state = 16))\n",
    "])\n",
    "\n",
    "clf.fit(X_train, y_train)"
   ]
  },
  {
   "cell_type": "code",
   "execution_count": 56,
   "metadata": {},
   "outputs": [],
   "source": [
    "train_accuracy_score = np.mean(cross_val_score(clf, X_train, y_train, cv=5, scoring='accuracy', n_jobs=-1))\n",
    "test_accuracy_score = np.mean(cross_val_score(clf, X_test, y_test, cv=5, scoring='accuracy', n_jobs=-1))"
   ]
  },
  {
   "cell_type": "code",
   "execution_count": 57,
   "metadata": {},
   "outputs": [],
   "source": [
    "train_f1_score = np.mean(cross_val_score(clf, X_train, y_train, cv=5, scoring='f1', n_jobs=-1))\n",
    "test_f1_score = np.mean(cross_val_score(clf, X_test, y_test, cv=5, scoring='f1', n_jobs=-1))"
   ]
  },
  {
   "cell_type": "code",
   "execution_count": 58,
   "metadata": {
    "scrolled": true
   },
   "outputs": [
    {
     "name": "stdout",
     "output_type": "stream",
     "text": [
      "Train accuracy: 0.875, Train F-measure: 0.871\n",
      "Test accuracy: 0.844, Test F-measure: 0.838\n"
     ]
    }
   ],
   "source": [
    "print(f'Train accuracy: {train_accuracy_score:.3f}, Train F-measure: {train_f1_score:.3f}\\n'\n",
    "      f'Test accuracy: {test_accuracy_score:.3f}, Test F-measure: {test_f1_score:.3f}')"
   ]
  },
  {
   "cell_type": "markdown",
   "metadata": {},
   "source": [
    "Как видно, при использовании tf-idf преобразования + SVD, качество классификации немного выше, чем при LDA. Но в любом случае качество стало хуже, чем при простом использовании униграмм. "
   ]
  }
 ],
 "metadata": {
  "kernelspec": {
   "display_name": "Python 3",
   "language": "python",
   "name": "python3"
  },
  "language_info": {
   "codemirror_mode": {
    "name": "ipython",
    "version": 3
   },
   "file_extension": ".py",
   "mimetype": "text/x-python",
   "name": "python",
   "nbconvert_exporter": "python",
   "pygments_lexer": "ipython3",
   "version": "3.7.7"
  }
 },
 "nbformat": 4,
 "nbformat_minor": 2
}
